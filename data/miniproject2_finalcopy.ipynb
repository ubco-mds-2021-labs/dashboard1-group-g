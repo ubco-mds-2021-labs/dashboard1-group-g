{
 "cells": [
  {
   "cell_type": "markdown",
   "id": "6c3d6dc6-b03b-4e53-8713-f06acd321a28",
   "metadata": {
    "tags": []
   },
   "source": [
    "# **Data 550 Mini Project 2**\n",
    "Group: 15\n",
    "\n",
    "Dataset: Spotify\n",
    "\n",
    "Names: Val Veeramani and Sara Hall\n",
    "\n",
    "Date: February, 2022\n",
    "\n",
    "[Link to our Recording](https://youtu.be/cY_rl8B_sAs)"
   ]
  },
  {
   "cell_type": "code",
   "execution_count": 1,
   "id": "fef38cef-2eeb-4296-9da9-c08e85e7818f",
   "metadata": {},
   "outputs": [
    {
     "data": {
      "text/plain": [
       "DataTransformerRegistry.enable('data_server')"
      ]
     },
     "execution_count": 1,
     "metadata": {},
     "output_type": "execute_result"
    }
   ],
   "source": [
    "import pandas as pd\n",
    "import altair as alt\n",
    "# Save a vega-lite spec and a PNG blob for each plot in the notebook\n",
    "#alt.renderers.enable('mimetype')\n",
    "# Handle large data sets without embedding them in the notebook\n",
    "alt.data_transformers.enable('data_server')\n",
    "alt.data_transformers.disable_max_rows()"
   ]
  },
  {
   "cell_type": "markdown",
   "id": "2d6d65cb-733f-4bbc-9e42-6ba8e7231d30",
   "metadata": {},
   "source": [
    "## **Exploratory Data Analysis**"
   ]
  },
  {
   "cell_type": "markdown",
   "id": "b2166b16-f2f5-4477-a74d-2100264099ef",
   "metadata": {},
   "source": [
    "### Dataset Description"
   ]
  },
  {
   "cell_type": "markdown",
   "id": "f9cb7da5-3163-4d86-a7b9-cfe1679cd8e8",
   "metadata": {},
   "source": [
    "This [dataset](https://github.com/rfordatascience/tidytuesday/tree/master/data/2020/2020-01-21) was provided on Github as the January 21, 2020 [Tidy Tuesday challenge](https://|github.com/rfordatascience/tidytuesday). As a result, this datset was provided with the purpose of learning how to wrangle and visualize data in R, and we are using it in a similar context to practice exploratory data analysis in Python. The data in the `csv` file were collected in January 2020 using the [`spotifyr`](https://www.rcharlie.com/spotifyr/) R package, which connects to the [Spotify Web API](https://developer.spotify.com/documentation/web-api/). The dataset contains information about around 30000 songs available on Spotify. This includes several variables identifying the song (id, name, artist, release date, album id, and album name), along with information about the playlist on which it was found (name, id, genre, and subgenre). Finally, it includes several numerical variables about the songs that we are mainly interested in analyzing (popularity, danceability, energy, key, loudness, mode, speechiness, acousticness, instrumentalness, liveness, valence, tempo, and duration). "
   ]
  },
  {
   "cell_type": "markdown",
   "id": "ddad3e3c-0f73-41e0-876b-e2320b76d5c3",
   "metadata": {},
   "source": [
    "### Load the Dataset"
   ]
  },
  {
   "cell_type": "code",
   "execution_count": 2,
   "id": "354724f0-4bde-4705-90c3-5abbd82f8b4e",
   "metadata": {},
   "outputs": [],
   "source": [
    "data = pd.read_csv('https://raw.githubusercontent.com/rfordatascience/tidytuesday/master/data/2020/2020-01-21/spotify_songs.csv')"
   ]
  },
  {
   "cell_type": "markdown",
   "id": "caca3f3c-33d0-45f4-a2ca-c72a181ec6f6",
   "metadata": {},
   "source": [
    "### Dataset Exploration"
   ]
  },
  {
   "cell_type": "markdown",
   "id": "dee11103-9c24-4ec0-8593-bcf01baa9cdc",
   "metadata": {},
   "source": [
    "We're going to start by looking at the first few rows of the data. "
   ]
  },
  {
   "cell_type": "code",
   "execution_count": 3,
   "id": "f8b1401e-833d-4c47-ab49-4ea92ecf1394",
   "metadata": {},
   "outputs": [
    {
     "data": {
      "text/html": [
       "<div>\n",
       "<style scoped>\n",
       "    .dataframe tbody tr th:only-of-type {\n",
       "        vertical-align: middle;\n",
       "    }\n",
       "\n",
       "    .dataframe tbody tr th {\n",
       "        vertical-align: top;\n",
       "    }\n",
       "\n",
       "    .dataframe thead th {\n",
       "        text-align: right;\n",
       "    }\n",
       "</style>\n",
       "<table border=\"1\" class=\"dataframe\">\n",
       "  <thead>\n",
       "    <tr style=\"text-align: right;\">\n",
       "      <th></th>\n",
       "      <th>track_id</th>\n",
       "      <th>track_name</th>\n",
       "      <th>track_artist</th>\n",
       "      <th>track_popularity</th>\n",
       "      <th>track_album_id</th>\n",
       "      <th>track_album_name</th>\n",
       "      <th>track_album_release_date</th>\n",
       "      <th>playlist_name</th>\n",
       "      <th>playlist_id</th>\n",
       "      <th>playlist_genre</th>\n",
       "      <th>...</th>\n",
       "      <th>key</th>\n",
       "      <th>loudness</th>\n",
       "      <th>mode</th>\n",
       "      <th>speechiness</th>\n",
       "      <th>acousticness</th>\n",
       "      <th>instrumentalness</th>\n",
       "      <th>liveness</th>\n",
       "      <th>valence</th>\n",
       "      <th>tempo</th>\n",
       "      <th>duration_ms</th>\n",
       "    </tr>\n",
       "  </thead>\n",
       "  <tbody>\n",
       "    <tr>\n",
       "      <th>0</th>\n",
       "      <td>6f807x0ima9a1j3VPbc7VN</td>\n",
       "      <td>I Don't Care (with Justin Bieber) - Loud Luxur...</td>\n",
       "      <td>Ed Sheeran</td>\n",
       "      <td>66</td>\n",
       "      <td>2oCs0DGTsRO98Gh5ZSl2Cx</td>\n",
       "      <td>I Don't Care (with Justin Bieber) [Loud Luxury...</td>\n",
       "      <td>2019-06-14</td>\n",
       "      <td>Pop Remix</td>\n",
       "      <td>37i9dQZF1DXcZDD7cfEKhW</td>\n",
       "      <td>pop</td>\n",
       "      <td>...</td>\n",
       "      <td>6</td>\n",
       "      <td>-2.634</td>\n",
       "      <td>1</td>\n",
       "      <td>0.0583</td>\n",
       "      <td>0.1020</td>\n",
       "      <td>0.000000</td>\n",
       "      <td>0.0653</td>\n",
       "      <td>0.518</td>\n",
       "      <td>122.036</td>\n",
       "      <td>194754</td>\n",
       "    </tr>\n",
       "    <tr>\n",
       "      <th>1</th>\n",
       "      <td>0r7CVbZTWZgbTCYdfa2P31</td>\n",
       "      <td>Memories - Dillon Francis Remix</td>\n",
       "      <td>Maroon 5</td>\n",
       "      <td>67</td>\n",
       "      <td>63rPSO264uRjW1X5E6cWv6</td>\n",
       "      <td>Memories (Dillon Francis Remix)</td>\n",
       "      <td>2019-12-13</td>\n",
       "      <td>Pop Remix</td>\n",
       "      <td>37i9dQZF1DXcZDD7cfEKhW</td>\n",
       "      <td>pop</td>\n",
       "      <td>...</td>\n",
       "      <td>11</td>\n",
       "      <td>-4.969</td>\n",
       "      <td>1</td>\n",
       "      <td>0.0373</td>\n",
       "      <td>0.0724</td>\n",
       "      <td>0.004210</td>\n",
       "      <td>0.3570</td>\n",
       "      <td>0.693</td>\n",
       "      <td>99.972</td>\n",
       "      <td>162600</td>\n",
       "    </tr>\n",
       "    <tr>\n",
       "      <th>2</th>\n",
       "      <td>1z1Hg7Vb0AhHDiEmnDE79l</td>\n",
       "      <td>All the Time - Don Diablo Remix</td>\n",
       "      <td>Zara Larsson</td>\n",
       "      <td>70</td>\n",
       "      <td>1HoSmj2eLcsrR0vE9gThr4</td>\n",
       "      <td>All the Time (Don Diablo Remix)</td>\n",
       "      <td>2019-07-05</td>\n",
       "      <td>Pop Remix</td>\n",
       "      <td>37i9dQZF1DXcZDD7cfEKhW</td>\n",
       "      <td>pop</td>\n",
       "      <td>...</td>\n",
       "      <td>1</td>\n",
       "      <td>-3.432</td>\n",
       "      <td>0</td>\n",
       "      <td>0.0742</td>\n",
       "      <td>0.0794</td>\n",
       "      <td>0.000023</td>\n",
       "      <td>0.1100</td>\n",
       "      <td>0.613</td>\n",
       "      <td>124.008</td>\n",
       "      <td>176616</td>\n",
       "    </tr>\n",
       "    <tr>\n",
       "      <th>3</th>\n",
       "      <td>75FpbthrwQmzHlBJLuGdC7</td>\n",
       "      <td>Call You Mine - Keanu Silva Remix</td>\n",
       "      <td>The Chainsmokers</td>\n",
       "      <td>60</td>\n",
       "      <td>1nqYsOef1yKKuGOVchbsk6</td>\n",
       "      <td>Call You Mine - The Remixes</td>\n",
       "      <td>2019-07-19</td>\n",
       "      <td>Pop Remix</td>\n",
       "      <td>37i9dQZF1DXcZDD7cfEKhW</td>\n",
       "      <td>pop</td>\n",
       "      <td>...</td>\n",
       "      <td>7</td>\n",
       "      <td>-3.778</td>\n",
       "      <td>1</td>\n",
       "      <td>0.1020</td>\n",
       "      <td>0.0287</td>\n",
       "      <td>0.000009</td>\n",
       "      <td>0.2040</td>\n",
       "      <td>0.277</td>\n",
       "      <td>121.956</td>\n",
       "      <td>169093</td>\n",
       "    </tr>\n",
       "    <tr>\n",
       "      <th>4</th>\n",
       "      <td>1e8PAfcKUYoKkxPhrHqw4x</td>\n",
       "      <td>Someone You Loved - Future Humans Remix</td>\n",
       "      <td>Lewis Capaldi</td>\n",
       "      <td>69</td>\n",
       "      <td>7m7vv9wlQ4i0LFuJiE2zsQ</td>\n",
       "      <td>Someone You Loved (Future Humans Remix)</td>\n",
       "      <td>2019-03-05</td>\n",
       "      <td>Pop Remix</td>\n",
       "      <td>37i9dQZF1DXcZDD7cfEKhW</td>\n",
       "      <td>pop</td>\n",
       "      <td>...</td>\n",
       "      <td>1</td>\n",
       "      <td>-4.672</td>\n",
       "      <td>1</td>\n",
       "      <td>0.0359</td>\n",
       "      <td>0.0803</td>\n",
       "      <td>0.000000</td>\n",
       "      <td>0.0833</td>\n",
       "      <td>0.725</td>\n",
       "      <td>123.976</td>\n",
       "      <td>189052</td>\n",
       "    </tr>\n",
       "  </tbody>\n",
       "</table>\n",
       "<p>5 rows × 23 columns</p>\n",
       "</div>"
      ],
      "text/plain": [
       "                 track_id                                         track_name  \\\n",
       "0  6f807x0ima9a1j3VPbc7VN  I Don't Care (with Justin Bieber) - Loud Luxur...   \n",
       "1  0r7CVbZTWZgbTCYdfa2P31                    Memories - Dillon Francis Remix   \n",
       "2  1z1Hg7Vb0AhHDiEmnDE79l                    All the Time - Don Diablo Remix   \n",
       "3  75FpbthrwQmzHlBJLuGdC7                  Call You Mine - Keanu Silva Remix   \n",
       "4  1e8PAfcKUYoKkxPhrHqw4x            Someone You Loved - Future Humans Remix   \n",
       "\n",
       "       track_artist  track_popularity          track_album_id  \\\n",
       "0        Ed Sheeran                66  2oCs0DGTsRO98Gh5ZSl2Cx   \n",
       "1          Maroon 5                67  63rPSO264uRjW1X5E6cWv6   \n",
       "2      Zara Larsson                70  1HoSmj2eLcsrR0vE9gThr4   \n",
       "3  The Chainsmokers                60  1nqYsOef1yKKuGOVchbsk6   \n",
       "4     Lewis Capaldi                69  7m7vv9wlQ4i0LFuJiE2zsQ   \n",
       "\n",
       "                                    track_album_name track_album_release_date  \\\n",
       "0  I Don't Care (with Justin Bieber) [Loud Luxury...               2019-06-14   \n",
       "1                    Memories (Dillon Francis Remix)               2019-12-13   \n",
       "2                    All the Time (Don Diablo Remix)               2019-07-05   \n",
       "3                        Call You Mine - The Remixes               2019-07-19   \n",
       "4            Someone You Loved (Future Humans Remix)               2019-03-05   \n",
       "\n",
       "  playlist_name             playlist_id playlist_genre  ... key  loudness  \\\n",
       "0     Pop Remix  37i9dQZF1DXcZDD7cfEKhW            pop  ...   6    -2.634   \n",
       "1     Pop Remix  37i9dQZF1DXcZDD7cfEKhW            pop  ...  11    -4.969   \n",
       "2     Pop Remix  37i9dQZF1DXcZDD7cfEKhW            pop  ...   1    -3.432   \n",
       "3     Pop Remix  37i9dQZF1DXcZDD7cfEKhW            pop  ...   7    -3.778   \n",
       "4     Pop Remix  37i9dQZF1DXcZDD7cfEKhW            pop  ...   1    -4.672   \n",
       "\n",
       "   mode  speechiness  acousticness  instrumentalness  liveness  valence  \\\n",
       "0     1       0.0583        0.1020          0.000000    0.0653    0.518   \n",
       "1     1       0.0373        0.0724          0.004210    0.3570    0.693   \n",
       "2     0       0.0742        0.0794          0.000023    0.1100    0.613   \n",
       "3     1       0.1020        0.0287          0.000009    0.2040    0.277   \n",
       "4     1       0.0359        0.0803          0.000000    0.0833    0.725   \n",
       "\n",
       "     tempo  duration_ms  \n",
       "0  122.036       194754  \n",
       "1   99.972       162600  \n",
       "2  124.008       176616  \n",
       "3  121.956       169093  \n",
       "4  123.976       189052  \n",
       "\n",
       "[5 rows x 23 columns]"
      ]
     },
     "execution_count": 3,
     "metadata": {},
     "output_type": "execute_result"
    }
   ],
   "source": [
    "data.head()"
   ]
  },
  {
   "cell_type": "code",
   "execution_count": 4,
   "id": "f90225db-af87-4d52-aee1-2bf7a3c7a9cf",
   "metadata": {},
   "outputs": [
    {
     "data": {
      "text/plain": [
       "32833"
      ]
     },
     "execution_count": 4,
     "metadata": {},
     "output_type": "execute_result"
    }
   ],
   "source": [
    "len(data)"
   ]
  },
  {
   "cell_type": "code",
   "execution_count": 5,
   "id": "fec47009-156e-4c97-8270-125b3dfc6a59",
   "metadata": {},
   "outputs": [
    {
     "name": "stdout",
     "output_type": "stream",
     "text": [
      "<class 'pandas.core.frame.DataFrame'>\n",
      "RangeIndex: 32833 entries, 0 to 32832\n",
      "Data columns (total 23 columns):\n",
      " #   Column                    Non-Null Count  Dtype  \n",
      "---  ------                    --------------  -----  \n",
      " 0   track_id                  32833 non-null  object \n",
      " 1   track_name                32828 non-null  object \n",
      " 2   track_artist              32828 non-null  object \n",
      " 3   track_popularity          32833 non-null  int64  \n",
      " 4   track_album_id            32833 non-null  object \n",
      " 5   track_album_name          32828 non-null  object \n",
      " 6   track_album_release_date  32833 non-null  object \n",
      " 7   playlist_name             32833 non-null  object \n",
      " 8   playlist_id               32833 non-null  object \n",
      " 9   playlist_genre            32833 non-null  object \n",
      " 10  playlist_subgenre         32833 non-null  object \n",
      " 11  danceability              32833 non-null  float64\n",
      " 12  energy                    32833 non-null  float64\n",
      " 13  key                       32833 non-null  int64  \n",
      " 14  loudness                  32833 non-null  float64\n",
      " 15  mode                      32833 non-null  int64  \n",
      " 16  speechiness               32833 non-null  float64\n",
      " 17  acousticness              32833 non-null  float64\n",
      " 18  instrumentalness          32833 non-null  float64\n",
      " 19  liveness                  32833 non-null  float64\n",
      " 20  valence                   32833 non-null  float64\n",
      " 21  tempo                     32833 non-null  float64\n",
      " 22  duration_ms               32833 non-null  int64  \n",
      "dtypes: float64(9), int64(4), object(10)\n",
      "memory usage: 5.8+ MB\n"
     ]
    }
   ],
   "source": [
    "data.info()"
   ]
  },
  {
   "cell_type": "markdown",
   "id": "237dfce6-53eb-4d9d-8d5f-70b773eea8b9",
   "metadata": {},
   "source": [
    "It looks like the dataset is missing 5 track names and 5 track artists. This probably doesn't matter given we are focusing on the numerical variables, but we could consider getting rid of these rows since there are a lot of rows anyway. "
   ]
  },
  {
   "cell_type": "code",
   "execution_count": 6,
   "id": "0c2aff70-169a-43c3-a195-09f57d137ae0",
   "metadata": {},
   "outputs": [
    {
     "data": {
      "text/html": [
       "<div>\n",
       "<style scoped>\n",
       "    .dataframe tbody tr th:only-of-type {\n",
       "        vertical-align: middle;\n",
       "    }\n",
       "\n",
       "    .dataframe tbody tr th {\n",
       "        vertical-align: top;\n",
       "    }\n",
       "\n",
       "    .dataframe thead th {\n",
       "        text-align: right;\n",
       "    }\n",
       "</style>\n",
       "<table border=\"1\" class=\"dataframe\">\n",
       "  <thead>\n",
       "    <tr style=\"text-align: right;\">\n",
       "      <th></th>\n",
       "      <th>track_popularity</th>\n",
       "      <th>danceability</th>\n",
       "      <th>energy</th>\n",
       "      <th>key</th>\n",
       "      <th>loudness</th>\n",
       "      <th>mode</th>\n",
       "      <th>speechiness</th>\n",
       "      <th>acousticness</th>\n",
       "      <th>instrumentalness</th>\n",
       "      <th>liveness</th>\n",
       "      <th>valence</th>\n",
       "      <th>tempo</th>\n",
       "      <th>duration_ms</th>\n",
       "    </tr>\n",
       "  </thead>\n",
       "  <tbody>\n",
       "    <tr>\n",
       "      <th>count</th>\n",
       "      <td>32833.000000</td>\n",
       "      <td>32833.000000</td>\n",
       "      <td>32833.000000</td>\n",
       "      <td>32833.000000</td>\n",
       "      <td>32833.000000</td>\n",
       "      <td>32833.000000</td>\n",
       "      <td>32833.000000</td>\n",
       "      <td>32833.000000</td>\n",
       "      <td>32833.000000</td>\n",
       "      <td>32833.000000</td>\n",
       "      <td>32833.000000</td>\n",
       "      <td>32833.000000</td>\n",
       "      <td>32833.000000</td>\n",
       "    </tr>\n",
       "    <tr>\n",
       "      <th>mean</th>\n",
       "      <td>42.477081</td>\n",
       "      <td>0.654850</td>\n",
       "      <td>0.698619</td>\n",
       "      <td>5.374471</td>\n",
       "      <td>-6.719499</td>\n",
       "      <td>0.565711</td>\n",
       "      <td>0.107068</td>\n",
       "      <td>0.175334</td>\n",
       "      <td>0.084747</td>\n",
       "      <td>0.190176</td>\n",
       "      <td>0.510561</td>\n",
       "      <td>120.881132</td>\n",
       "      <td>225799.811622</td>\n",
       "    </tr>\n",
       "    <tr>\n",
       "      <th>std</th>\n",
       "      <td>24.984074</td>\n",
       "      <td>0.145085</td>\n",
       "      <td>0.180910</td>\n",
       "      <td>3.611657</td>\n",
       "      <td>2.988436</td>\n",
       "      <td>0.495671</td>\n",
       "      <td>0.101314</td>\n",
       "      <td>0.219633</td>\n",
       "      <td>0.224230</td>\n",
       "      <td>0.154317</td>\n",
       "      <td>0.233146</td>\n",
       "      <td>26.903624</td>\n",
       "      <td>59834.006182</td>\n",
       "    </tr>\n",
       "    <tr>\n",
       "      <th>min</th>\n",
       "      <td>0.000000</td>\n",
       "      <td>0.000000</td>\n",
       "      <td>0.000175</td>\n",
       "      <td>0.000000</td>\n",
       "      <td>-46.448000</td>\n",
       "      <td>0.000000</td>\n",
       "      <td>0.000000</td>\n",
       "      <td>0.000000</td>\n",
       "      <td>0.000000</td>\n",
       "      <td>0.000000</td>\n",
       "      <td>0.000000</td>\n",
       "      <td>0.000000</td>\n",
       "      <td>4000.000000</td>\n",
       "    </tr>\n",
       "    <tr>\n",
       "      <th>25%</th>\n",
       "      <td>24.000000</td>\n",
       "      <td>0.563000</td>\n",
       "      <td>0.581000</td>\n",
       "      <td>2.000000</td>\n",
       "      <td>-8.171000</td>\n",
       "      <td>0.000000</td>\n",
       "      <td>0.041000</td>\n",
       "      <td>0.015100</td>\n",
       "      <td>0.000000</td>\n",
       "      <td>0.092700</td>\n",
       "      <td>0.331000</td>\n",
       "      <td>99.960000</td>\n",
       "      <td>187819.000000</td>\n",
       "    </tr>\n",
       "    <tr>\n",
       "      <th>50%</th>\n",
       "      <td>45.000000</td>\n",
       "      <td>0.672000</td>\n",
       "      <td>0.721000</td>\n",
       "      <td>6.000000</td>\n",
       "      <td>-6.166000</td>\n",
       "      <td>1.000000</td>\n",
       "      <td>0.062500</td>\n",
       "      <td>0.080400</td>\n",
       "      <td>0.000016</td>\n",
       "      <td>0.127000</td>\n",
       "      <td>0.512000</td>\n",
       "      <td>121.984000</td>\n",
       "      <td>216000.000000</td>\n",
       "    </tr>\n",
       "    <tr>\n",
       "      <th>75%</th>\n",
       "      <td>62.000000</td>\n",
       "      <td>0.761000</td>\n",
       "      <td>0.840000</td>\n",
       "      <td>9.000000</td>\n",
       "      <td>-4.645000</td>\n",
       "      <td>1.000000</td>\n",
       "      <td>0.132000</td>\n",
       "      <td>0.255000</td>\n",
       "      <td>0.004830</td>\n",
       "      <td>0.248000</td>\n",
       "      <td>0.693000</td>\n",
       "      <td>133.918000</td>\n",
       "      <td>253585.000000</td>\n",
       "    </tr>\n",
       "    <tr>\n",
       "      <th>max</th>\n",
       "      <td>100.000000</td>\n",
       "      <td>0.983000</td>\n",
       "      <td>1.000000</td>\n",
       "      <td>11.000000</td>\n",
       "      <td>1.275000</td>\n",
       "      <td>1.000000</td>\n",
       "      <td>0.918000</td>\n",
       "      <td>0.994000</td>\n",
       "      <td>0.994000</td>\n",
       "      <td>0.996000</td>\n",
       "      <td>0.991000</td>\n",
       "      <td>239.440000</td>\n",
       "      <td>517810.000000</td>\n",
       "    </tr>\n",
       "  </tbody>\n",
       "</table>\n",
       "</div>"
      ],
      "text/plain": [
       "       track_popularity  danceability        energy           key  \\\n",
       "count      32833.000000  32833.000000  32833.000000  32833.000000   \n",
       "mean          42.477081      0.654850      0.698619      5.374471   \n",
       "std           24.984074      0.145085      0.180910      3.611657   \n",
       "min            0.000000      0.000000      0.000175      0.000000   \n",
       "25%           24.000000      0.563000      0.581000      2.000000   \n",
       "50%           45.000000      0.672000      0.721000      6.000000   \n",
       "75%           62.000000      0.761000      0.840000      9.000000   \n",
       "max          100.000000      0.983000      1.000000     11.000000   \n",
       "\n",
       "           loudness          mode   speechiness  acousticness  \\\n",
       "count  32833.000000  32833.000000  32833.000000  32833.000000   \n",
       "mean      -6.719499      0.565711      0.107068      0.175334   \n",
       "std        2.988436      0.495671      0.101314      0.219633   \n",
       "min      -46.448000      0.000000      0.000000      0.000000   \n",
       "25%       -8.171000      0.000000      0.041000      0.015100   \n",
       "50%       -6.166000      1.000000      0.062500      0.080400   \n",
       "75%       -4.645000      1.000000      0.132000      0.255000   \n",
       "max        1.275000      1.000000      0.918000      0.994000   \n",
       "\n",
       "       instrumentalness      liveness       valence         tempo  \\\n",
       "count      32833.000000  32833.000000  32833.000000  32833.000000   \n",
       "mean           0.084747      0.190176      0.510561    120.881132   \n",
       "std            0.224230      0.154317      0.233146     26.903624   \n",
       "min            0.000000      0.000000      0.000000      0.000000   \n",
       "25%            0.000000      0.092700      0.331000     99.960000   \n",
       "50%            0.000016      0.127000      0.512000    121.984000   \n",
       "75%            0.004830      0.248000      0.693000    133.918000   \n",
       "max            0.994000      0.996000      0.991000    239.440000   \n",
       "\n",
       "         duration_ms  \n",
       "count   32833.000000  \n",
       "mean   225799.811622  \n",
       "std     59834.006182  \n",
       "min      4000.000000  \n",
       "25%    187819.000000  \n",
       "50%    216000.000000  \n",
       "75%    253585.000000  \n",
       "max    517810.000000  "
      ]
     },
     "execution_count": 6,
     "metadata": {},
     "output_type": "execute_result"
    }
   ],
   "source": [
    "data.describe()"
   ]
  },
  {
   "cell_type": "markdown",
   "id": "47e614ea-83ef-4bf9-ba1b-4f08a82000cb",
   "metadata": {},
   "source": [
    "Given the playist variables, we want to make sure that the dataset doesn't have songs repeated multiple times for different playlists."
   ]
  },
  {
   "cell_type": "code",
   "execution_count": 7,
   "id": "c8496f5d-bce0-4013-9340-a3d84704beec",
   "metadata": {},
   "outputs": [
    {
     "data": {
      "text/plain": [
       "28349"
      ]
     },
     "execution_count": 7,
     "metadata": {},
     "output_type": "execute_result"
    }
   ],
   "source": [
    "len(data[['track_name','track_artist', 'track_album_id']].drop_duplicates())"
   ]
  },
  {
   "cell_type": "markdown",
   "id": "18d20237-f671-49f0-8e3e-9a3aa8f19b6c",
   "metadata": {},
   "source": [
    "It looks like there are duplicate songs in the data set so we're going to have to do something in the wrangling stage in order to deal with this. "
   ]
  },
  {
   "cell_type": "code",
   "execution_count": 8,
   "id": "df7848e9-d41c-466f-959a-898af48ec57e",
   "metadata": {},
   "outputs": [
    {
     "data": {
      "text/plain": [
       "4484"
      ]
     },
     "execution_count": 8,
     "metadata": {},
     "output_type": "execute_result"
    }
   ],
   "source": [
    "sum(data[['track_name','track_artist', 'track_album_id']].duplicated())"
   ]
  },
  {
   "cell_type": "markdown",
   "id": "85ab7bf0-27ae-44d0-b520-b31e268e365c",
   "metadata": {},
   "source": [
    "### Initial Thoughts"
   ]
  },
  {
   "cell_type": "markdown",
   "id": "6215cf00-2756-4b97-a78c-4f80a3c6de12",
   "metadata": {},
   "source": [
    "It looks like although mode is technically numerical, it's actually a binary response variable (0 means it's a minor key and 1 means it's a major key. This means it's essentially a categorical variable, so we may need to think careful about using it in future analyses. \n",
    "\n",
    "To deal with the duplicated songs, I'm thinking one thing we could to is just group by track name and track artist, then take the mean of the numerical values."
   ]
  },
  {
   "cell_type": "markdown",
   "id": "0b10df5e-8380-4080-8bf6-c41f93fb8f08",
   "metadata": {},
   "source": [
    "### Wrangling"
   ]
  },
  {
   "cell_type": "markdown",
   "id": "9e35bf65-b458-4bfd-96b2-e5b9553ab7aa",
   "metadata": {},
   "source": [
    "Since we have decided to identify songs by the track name and track artist (and average the duplicates across albums and playlists), We're going to start by dropping the nas. "
   ]
  },
  {
   "cell_type": "code",
   "execution_count": 9,
   "id": "d1d7aa9a-8aca-4654-9721-7c63b44a42f8",
   "metadata": {},
   "outputs": [],
   "source": [
    "data = data.dropna()"
   ]
  },
  {
   "cell_type": "markdown",
   "id": "59da5abb-be1c-46ec-a308-741015d63765",
   "metadata": {},
   "source": [
    "Next, we'll average the values for duplicate track and artist names. This operation has the added bonus of dropping all the categorical variables that we don't care about. We'll keep a second data frame with the repeat tracks so that we can do some analysis about playlist genre. "
   ]
  },
  {
   "cell_type": "code",
   "execution_count": 10,
   "id": "5c500a53-66ea-4282-b676-8bcee3e839f2",
   "metadata": {},
   "outputs": [],
   "source": [
    "spotify_songs = data\n",
    "data = data.groupby(['track_name', 'track_artist']).mean().reset_index()"
   ]
  },
  {
   "cell_type": "code",
   "execution_count": 11,
   "id": "8080de82-f655-4050-895f-ac2916a2b294",
   "metadata": {},
   "outputs": [
    {
     "data": {
      "text/html": [
       "<div>\n",
       "<style scoped>\n",
       "    .dataframe tbody tr th:only-of-type {\n",
       "        vertical-align: middle;\n",
       "    }\n",
       "\n",
       "    .dataframe tbody tr th {\n",
       "        vertical-align: top;\n",
       "    }\n",
       "\n",
       "    .dataframe thead th {\n",
       "        text-align: right;\n",
       "    }\n",
       "</style>\n",
       "<table border=\"1\" class=\"dataframe\">\n",
       "  <thead>\n",
       "    <tr style=\"text-align: right;\">\n",
       "      <th></th>\n",
       "      <th>track_name</th>\n",
       "      <th>track_artist</th>\n",
       "      <th>track_popularity</th>\n",
       "      <th>danceability</th>\n",
       "      <th>energy</th>\n",
       "      <th>key</th>\n",
       "      <th>loudness</th>\n",
       "      <th>mode</th>\n",
       "      <th>speechiness</th>\n",
       "      <th>acousticness</th>\n",
       "      <th>instrumentalness</th>\n",
       "      <th>liveness</th>\n",
       "      <th>valence</th>\n",
       "      <th>tempo</th>\n",
       "      <th>duration_ms</th>\n",
       "    </tr>\n",
       "  </thead>\n",
       "  <tbody>\n",
       "    <tr>\n",
       "      <th>0</th>\n",
       "      <td>\"I TRIED FOR YEARS... NOBODY LISTENED\"</td>\n",
       "      <td>Iceberg Black</td>\n",
       "      <td>18.0</td>\n",
       "      <td>0.914</td>\n",
       "      <td>0.4080</td>\n",
       "      <td>10.0</td>\n",
       "      <td>-6.7120</td>\n",
       "      <td>0.0</td>\n",
       "      <td>0.1410</td>\n",
       "      <td>0.026800</td>\n",
       "      <td>0.001790</td>\n",
       "      <td>0.116</td>\n",
       "      <td>0.0944</td>\n",
       "      <td>140.0260</td>\n",
       "      <td>150909.0</td>\n",
       "    </tr>\n",
       "    <tr>\n",
       "      <th>1</th>\n",
       "      <td>\"This Is Seagull….\"</td>\n",
       "      <td>The Snake Corps</td>\n",
       "      <td>34.0</td>\n",
       "      <td>0.516</td>\n",
       "      <td>0.5800</td>\n",
       "      <td>9.0</td>\n",
       "      <td>-13.2880</td>\n",
       "      <td>0.0</td>\n",
       "      <td>0.0295</td>\n",
       "      <td>0.000002</td>\n",
       "      <td>0.857000</td>\n",
       "      <td>0.110</td>\n",
       "      <td>0.2350</td>\n",
       "      <td>135.9030</td>\n",
       "      <td>238227.0</td>\n",
       "    </tr>\n",
       "    <tr>\n",
       "      <th>2</th>\n",
       "      <td>#1 Stunna</td>\n",
       "      <td>Big Tymers</td>\n",
       "      <td>24.0</td>\n",
       "      <td>0.552</td>\n",
       "      <td>0.8405</td>\n",
       "      <td>5.0</td>\n",
       "      <td>-4.9725</td>\n",
       "      <td>1.0</td>\n",
       "      <td>0.2845</td>\n",
       "      <td>0.016300</td>\n",
       "      <td>0.003655</td>\n",
       "      <td>0.258</td>\n",
       "      <td>0.5650</td>\n",
       "      <td>89.0435</td>\n",
       "      <td>281960.0</td>\n",
       "    </tr>\n",
       "    <tr>\n",
       "      <th>3</th>\n",
       "      <td>#NAKAMA</td>\n",
       "      <td>XLII</td>\n",
       "      <td>26.0</td>\n",
       "      <td>0.797</td>\n",
       "      <td>0.9700</td>\n",
       "      <td>3.0</td>\n",
       "      <td>-3.2040</td>\n",
       "      <td>1.0</td>\n",
       "      <td>0.0545</td>\n",
       "      <td>0.385000</td>\n",
       "      <td>0.000157</td>\n",
       "      <td>0.318</td>\n",
       "      <td>0.5680</td>\n",
       "      <td>108.0410</td>\n",
       "      <td>192094.0</td>\n",
       "    </tr>\n",
       "    <tr>\n",
       "      <th>4</th>\n",
       "      <td>#Natural</td>\n",
       "      <td>Paty Cantú</td>\n",
       "      <td>50.0</td>\n",
       "      <td>0.800</td>\n",
       "      <td>0.8360</td>\n",
       "      <td>0.0</td>\n",
       "      <td>-3.5350</td>\n",
       "      <td>0.0</td>\n",
       "      <td>0.0568</td>\n",
       "      <td>0.114000</td>\n",
       "      <td>0.000000</td>\n",
       "      <td>0.134</td>\n",
       "      <td>0.8160</td>\n",
       "      <td>97.0230</td>\n",
       "      <td>227013.0</td>\n",
       "    </tr>\n",
       "  </tbody>\n",
       "</table>\n",
       "</div>"
      ],
      "text/plain": [
       "                               track_name     track_artist  track_popularity  \\\n",
       "0  \"I TRIED FOR YEARS... NOBODY LISTENED\"    Iceberg Black              18.0   \n",
       "1                     \"This Is Seagull….\"  The Snake Corps              34.0   \n",
       "2                               #1 Stunna       Big Tymers              24.0   \n",
       "3                                 #NAKAMA             XLII              26.0   \n",
       "4                                #Natural       Paty Cantú              50.0   \n",
       "\n",
       "   danceability  energy   key  loudness  mode  speechiness  acousticness  \\\n",
       "0         0.914  0.4080  10.0   -6.7120   0.0       0.1410      0.026800   \n",
       "1         0.516  0.5800   9.0  -13.2880   0.0       0.0295      0.000002   \n",
       "2         0.552  0.8405   5.0   -4.9725   1.0       0.2845      0.016300   \n",
       "3         0.797  0.9700   3.0   -3.2040   1.0       0.0545      0.385000   \n",
       "4         0.800  0.8360   0.0   -3.5350   0.0       0.0568      0.114000   \n",
       "\n",
       "   instrumentalness  liveness  valence     tempo  duration_ms  \n",
       "0          0.001790     0.116   0.0944  140.0260     150909.0  \n",
       "1          0.857000     0.110   0.2350  135.9030     238227.0  \n",
       "2          0.003655     0.258   0.5650   89.0435     281960.0  \n",
       "3          0.000157     0.318   0.5680  108.0410     192094.0  \n",
       "4          0.000000     0.134   0.8160   97.0230     227013.0  "
      ]
     },
     "execution_count": 11,
     "metadata": {},
     "output_type": "execute_result"
    }
   ],
   "source": [
    "data.head()"
   ]
  },
  {
   "cell_type": "markdown",
   "id": "f7271c92-28da-405a-82b5-c34f779aabb0",
   "metadata": {},
   "source": [
    "Let's further drop mode and key since they are both discrete variables. "
   ]
  },
  {
   "cell_type": "code",
   "execution_count": 12,
   "id": "76e7d5ea-6852-48d9-aebe-c2dc0770a6a1",
   "metadata": {},
   "outputs": [],
   "source": [
    "data = data.drop(columns = ['mode', 'key'])"
   ]
  },
  {
   "cell_type": "code",
   "execution_count": 13,
   "id": "1f14a338-e4c2-404a-a1b2-19241f845779",
   "metadata": {},
   "outputs": [],
   "source": [
    "data.columns = [\"Name\", \"Artist\", \"Popularity\", \"Danceability\", \n",
    "               \"Energy\", \"Loudness\", \"Speechiness\", \n",
    "               \"Acousticness\", \"Instrumentalness\", \"Liveness\", \"Valence\", \n",
    "              \"Tempo\", \"Duration (ms)\"]"
   ]
  },
  {
   "cell_type": "markdown",
   "id": "2753c379-bcbc-46c5-9581-eebddaa05e95",
   "metadata": {},
   "source": [
    "### Research Questions\n",
    "\n",
    "1. What are the underlying distributions of the different numerical variables? \n",
    "\n",
    "2. Are there any correlations between the different variables?\n",
    "\n",
    "3. How has music evolved over the years? In terms of metrics as well as genre preference\n",
    "\n",
    "4. If we want to create a popular song based on metrics, what should that entail?"
   ]
  },
  {
   "cell_type": "markdown",
   "id": "ec6942ed-0638-4e70-a562-f3c6996c78e6",
   "metadata": {},
   "source": [
    "### Data Anlaysis and Visualizations"
   ]
  },
  {
   "cell_type": "markdown",
   "id": "525f4470-a281-4b4f-9aaa-d20915ea9a6c",
   "metadata": {},
   "source": [
    "Starting out, it's important to get an idea of both the underlying distributions of our data, and how they might relate do each other. As a result, our first plot estimates the distributions. This will be important if we decide to run analyses like linear regression in the future. "
   ]
  },
  {
   "cell_type": "code",
   "execution_count": 14,
   "id": "b1e36b4c-7f28-4b9d-96e2-1596f3ccb442",
   "metadata": {},
   "outputs": [
    {
     "data": {
      "text/html": [
       "\n",
       "<div id=\"altair-viz-531e85168f024bad9c4425013d248a78\"></div>\n",
       "<script type=\"text/javascript\">\n",
       "  var VEGA_DEBUG = (typeof VEGA_DEBUG == \"undefined\") ? {} : VEGA_DEBUG;\n",
       "  (function(spec, embedOpt){\n",
       "    let outputDiv = document.currentScript.previousElementSibling;\n",
       "    if (outputDiv.id !== \"altair-viz-531e85168f024bad9c4425013d248a78\") {\n",
       "      outputDiv = document.getElementById(\"altair-viz-531e85168f024bad9c4425013d248a78\");\n",
       "    }\n",
       "    const paths = {\n",
       "      \"vega\": \"https://cdn.jsdelivr.net/npm//vega@5?noext\",\n",
       "      \"vega-lib\": \"https://cdn.jsdelivr.net/npm//vega-lib?noext\",\n",
       "      \"vega-lite\": \"https://cdn.jsdelivr.net/npm//vega-lite@4.17.0?noext\",\n",
       "      \"vega-embed\": \"https://cdn.jsdelivr.net/npm//vega-embed@6?noext\",\n",
       "    };\n",
       "\n",
       "    function maybeLoadScript(lib, version) {\n",
       "      var key = `${lib.replace(\"-\", \"\")}_version`;\n",
       "      return (VEGA_DEBUG[key] == version) ?\n",
       "        Promise.resolve(paths[lib]) :\n",
       "        new Promise(function(resolve, reject) {\n",
       "          var s = document.createElement('script');\n",
       "          document.getElementsByTagName(\"head\")[0].appendChild(s);\n",
       "          s.async = true;\n",
       "          s.onload = () => {\n",
       "            VEGA_DEBUG[key] = version;\n",
       "            return resolve(paths[lib]);\n",
       "          };\n",
       "          s.onerror = () => reject(`Error loading script: ${paths[lib]}`);\n",
       "          s.src = paths[lib];\n",
       "        });\n",
       "    }\n",
       "\n",
       "    function showError(err) {\n",
       "      outputDiv.innerHTML = `<div class=\"error\" style=\"color:red;\">${err}</div>`;\n",
       "      throw err;\n",
       "    }\n",
       "\n",
       "    function displayChart(vegaEmbed) {\n",
       "      vegaEmbed(outputDiv, spec, embedOpt)\n",
       "        .catch(err => showError(`Javascript Error: ${err.message}<br>This usually means there's a typo in your chart specification. See the javascript console for the full traceback.`));\n",
       "    }\n",
       "\n",
       "    if(typeof define === \"function\" && define.amd) {\n",
       "      requirejs.config({paths});\n",
       "      require([\"vega-embed\"], displayChart, err => showError(`Error loading script: ${err.message}`));\n",
       "    } else {\n",
       "      maybeLoadScript(\"vega\", \"5\")\n",
       "        .then(() => maybeLoadScript(\"vega-lite\", \"4.17.0\"))\n",
       "        .then(() => maybeLoadScript(\"vega-embed\", \"6\"))\n",
       "        .catch(showError)\n",
       "        .then(() => displayChart(vegaEmbed));\n",
       "    }\n",
       "  })({\"config\": {\"view\": {\"continuousWidth\": 400, \"continuousHeight\": 300}}, \"repeat\": [\"Popularity\", \"Danceability\", \"Energy\", \"Loudness\", \"Speechiness\", \"Acousticness\", \"Instrumentalness\", \"Liveness\", \"Valence\", \"Tempo\", \"Duration (ms)\"], \"spec\": {\"data\": {\"url\": \"http://localhost:15227/adfb00e4a7e30953fec224b4c1289185.json\"}, \"mark\": \"bar\", \"encoding\": {\"x\": {\"bin\": {\"maxbins\": 30}, \"field\": {\"repeat\": \"repeat\"}, \"type\": \"quantitative\"}, \"y\": {\"aggregate\": \"count\", \"title\": \"Number of Tracks\", \"type\": \"quantitative\"}}, \"height\": 80, \"width\": 200}, \"columns\": 3, \"title\": \"Distributions of Different Track Qualities\", \"$schema\": \"https://vega.github.io/schema/vega-lite/v4.17.0.json\"}, {\"mode\": \"vega-lite\"});\n",
       "</script>"
      ],
      "text/plain": [
       "alt.RepeatChart(...)"
      ]
     },
     "execution_count": 14,
     "metadata": {},
     "output_type": "execute_result"
    }
   ],
   "source": [
    "cnames = data.select_dtypes(include=['float64', 'int64']).columns.tolist()\n",
    "dist = alt.Chart(data).mark_bar().encode(\n",
    "        x = alt.X(alt.repeat('repeat'), type = 'quantitative', bin = alt.Bin(maxbins = 30)), \n",
    "        y = alt.Y('count()', title = \"Number of Tracks\")\n",
    "        ).properties(\n",
    "        height=80,\n",
    "        width = 200\n",
    "        ).repeat(\n",
    "        repeat=cnames, \n",
    "        columns=3\n",
    "    )\n",
    "dist.title = \"Distributions of Different Track Qualities\"\n",
    "dist"
   ]
  },
  {
   "cell_type": "markdown",
   "id": "386f3701-8b4a-4a68-b5b3-0151d78c01eb",
   "metadata": {},
   "source": [
    "I chose histograms as a way to approximate the shapes of the underlying distributions of these different variables. Interestingly, we can see that a lot of them do not seem to follow normal distributions, which will be important in the future when running regressions. In particular, it's interesting that a large number of the popularity ratings are in the smallest bin (0-5). I'm wondering if there's something weird here where a lot of songs are just never listened to. The majority of tracks also seem to have lower scores of instrumentalness, acousticness, speechiness, and liveness. This would suggest that most tracks on Spotify contain vocals, are likely to have a low confidence of being acoustic, don't much contain speech (unlike rap), and were not recorded live. \n",
    "\n",
    "Danceability, loudness, and energy all appear to be negatively skewed, implying that most tracks on spotify get higher ratings for these three metrics. \n",
    "\n",
    "In contrast, valence appears to have a nice rounded curve, with the center right over 0.5. This indicates that most tracks don't fall on either extreme of being positive or negative. It is also interesting that there is a peak in the number of tracks with a tempo between 120 and 130. Finally, the duration distribution shows that the mean track length is around 3 mins. \n",
    "\n",
    "\n",
    "\n",
    "Next, we wanted to check to see if there were any correlations between these different song metrics."
   ]
  },
  {
   "cell_type": "code",
   "execution_count": 15,
   "id": "9bf8eec4-1e94-4a02-99a7-63ec473b09da",
   "metadata": {},
   "outputs": [
    {
     "data": {
      "text/html": [
       "\n",
       "<div id=\"altair-viz-65912ae6e1fa4403b49f87f2f8bcd8e1\"></div>\n",
       "<script type=\"text/javascript\">\n",
       "  var VEGA_DEBUG = (typeof VEGA_DEBUG == \"undefined\") ? {} : VEGA_DEBUG;\n",
       "  (function(spec, embedOpt){\n",
       "    let outputDiv = document.currentScript.previousElementSibling;\n",
       "    if (outputDiv.id !== \"altair-viz-65912ae6e1fa4403b49f87f2f8bcd8e1\") {\n",
       "      outputDiv = document.getElementById(\"altair-viz-65912ae6e1fa4403b49f87f2f8bcd8e1\");\n",
       "    }\n",
       "    const paths = {\n",
       "      \"vega\": \"https://cdn.jsdelivr.net/npm//vega@5?noext\",\n",
       "      \"vega-lib\": \"https://cdn.jsdelivr.net/npm//vega-lib?noext\",\n",
       "      \"vega-lite\": \"https://cdn.jsdelivr.net/npm//vega-lite@4.17.0?noext\",\n",
       "      \"vega-embed\": \"https://cdn.jsdelivr.net/npm//vega-embed@6?noext\",\n",
       "    };\n",
       "\n",
       "    function maybeLoadScript(lib, version) {\n",
       "      var key = `${lib.replace(\"-\", \"\")}_version`;\n",
       "      return (VEGA_DEBUG[key] == version) ?\n",
       "        Promise.resolve(paths[lib]) :\n",
       "        new Promise(function(resolve, reject) {\n",
       "          var s = document.createElement('script');\n",
       "          document.getElementsByTagName(\"head\")[0].appendChild(s);\n",
       "          s.async = true;\n",
       "          s.onload = () => {\n",
       "            VEGA_DEBUG[key] = version;\n",
       "            return resolve(paths[lib]);\n",
       "          };\n",
       "          s.onerror = () => reject(`Error loading script: ${paths[lib]}`);\n",
       "          s.src = paths[lib];\n",
       "        });\n",
       "    }\n",
       "\n",
       "    function showError(err) {\n",
       "      outputDiv.innerHTML = `<div class=\"error\" style=\"color:red;\">${err}</div>`;\n",
       "      throw err;\n",
       "    }\n",
       "\n",
       "    function displayChart(vegaEmbed) {\n",
       "      vegaEmbed(outputDiv, spec, embedOpt)\n",
       "        .catch(err => showError(`Javascript Error: ${err.message}<br>This usually means there's a typo in your chart specification. See the javascript console for the full traceback.`));\n",
       "    }\n",
       "\n",
       "    if(typeof define === \"function\" && define.amd) {\n",
       "      requirejs.config({paths});\n",
       "      require([\"vega-embed\"], displayChart, err => showError(`Error loading script: ${err.message}`));\n",
       "    } else {\n",
       "      maybeLoadScript(\"vega\", \"5\")\n",
       "        .then(() => maybeLoadScript(\"vega-lite\", \"4.17.0\"))\n",
       "        .then(() => maybeLoadScript(\"vega-embed\", \"6\"))\n",
       "        .catch(showError)\n",
       "        .then(() => displayChart(vegaEmbed));\n",
       "    }\n",
       "  })({\"config\": {\"view\": {\"continuousWidth\": 400, \"continuousHeight\": 300}, \"axis\": {\"labelFontSize\": 12, \"titleFontSize\": 14}, \"title\": {\"fontSize\": 18}}, \"data\": {\"url\": \"http://localhost:15227/f4f0b10badc1ca8595452cdc8157f295.json\"}, \"mark\": \"square\", \"encoding\": {\"color\": {\"field\": \"corr\", \"scale\": {\"domain\": [-1, 1], \"reverse\": true, \"scheme\": \"redblue\"}, \"title\": \"Correlation\", \"type\": \"quantitative\"}, \"size\": {\"field\": \"abs\", \"title\": \"Absolute Value of Correlation\", \"type\": \"quantitative\"}, \"x\": {\"field\": \"level_0\", \"title\": \"Track Quality\", \"type\": \"nominal\"}, \"y\": {\"field\": \"level_1\", \"title\": \"Track Quality\", \"type\": \"nominal\"}}, \"height\": 400, \"title\": \"Weak Relationships Between Most Track Qualities\", \"width\": 400, \"$schema\": \"https://vega.github.io/schema/vega-lite/v4.17.0.json\"}, {\"mode\": \"vega-lite\"});\n",
       "</script>"
      ],
      "text/plain": [
       "alt.Chart(...)"
      ]
     },
     "execution_count": 15,
     "metadata": {},
     "output_type": "execute_result"
    }
   ],
   "source": [
    "corr_df = data.select_dtypes('number').corr('spearman').stack().reset_index(name='corr')\n",
    "corr_df.loc[corr_df['corr'] == 1, 'corr'] = 0\n",
    "corr_df['abs'] = corr_df['corr'].abs()\n",
    "alt.Chart(corr_df, title = \"Weak Relationships Between Most Track Qualities\").mark_square().encode(\n",
    "    x= alt.X('level_0', title=\"Track Quality\"),\n",
    "    y= alt.Y('level_1', title=\"Track Quality\"),\n",
    "    size= alt.Size('abs', title = \"Absolute Value of Correlation\"),\n",
    "    color=alt.Color('corr', scale=alt.Scale(scheme='redblue', reverse=True, domain = [-1,1]),\n",
    "                       title = \"Correlation\")\n",
    ").properties(height = 400, width = 400\n",
    ").configure_axis(\n",
    "    labelFontSize = 12,\n",
    "    titleFontSize = 14\n",
    ").configure_title(\n",
    "    fontSize = 18\n",
    ")"
   ]
  },
  {
   "cell_type": "markdown",
   "id": "6deb9dae-9f6a-40da-aa4f-9f9d2674a045",
   "metadata": {},
   "source": [
    "Here we can see that the correlations between most of these variables are quite small. Interestingly, popularity is very weakly correlated with pretty much all of the other variables. The two biggest correlations we see are between energy and acousticness, and energy and loudness. As a result, we decided initally to make scatterplots of these two energy against these other two variables. However, due to over-crowding with the large number of observations, we ending up choosing 2D histograms instead. "
   ]
  },
  {
   "cell_type": "code",
   "execution_count": 16,
   "id": "1575a251-b025-4b64-a4a9-f00b77ccc9e7",
   "metadata": {},
   "outputs": [
    {
     "data": {
      "text/html": [
       "\n",
       "<div id=\"altair-viz-dd996819f80e4970a4132a25fdccaf9a\"></div>\n",
       "<script type=\"text/javascript\">\n",
       "  var VEGA_DEBUG = (typeof VEGA_DEBUG == \"undefined\") ? {} : VEGA_DEBUG;\n",
       "  (function(spec, embedOpt){\n",
       "    let outputDiv = document.currentScript.previousElementSibling;\n",
       "    if (outputDiv.id !== \"altair-viz-dd996819f80e4970a4132a25fdccaf9a\") {\n",
       "      outputDiv = document.getElementById(\"altair-viz-dd996819f80e4970a4132a25fdccaf9a\");\n",
       "    }\n",
       "    const paths = {\n",
       "      \"vega\": \"https://cdn.jsdelivr.net/npm//vega@5?noext\",\n",
       "      \"vega-lib\": \"https://cdn.jsdelivr.net/npm//vega-lib?noext\",\n",
       "      \"vega-lite\": \"https://cdn.jsdelivr.net/npm//vega-lite@4.17.0?noext\",\n",
       "      \"vega-embed\": \"https://cdn.jsdelivr.net/npm//vega-embed@6?noext\",\n",
       "    };\n",
       "\n",
       "    function maybeLoadScript(lib, version) {\n",
       "      var key = `${lib.replace(\"-\", \"\")}_version`;\n",
       "      return (VEGA_DEBUG[key] == version) ?\n",
       "        Promise.resolve(paths[lib]) :\n",
       "        new Promise(function(resolve, reject) {\n",
       "          var s = document.createElement('script');\n",
       "          document.getElementsByTagName(\"head\")[0].appendChild(s);\n",
       "          s.async = true;\n",
       "          s.onload = () => {\n",
       "            VEGA_DEBUG[key] = version;\n",
       "            return resolve(paths[lib]);\n",
       "          };\n",
       "          s.onerror = () => reject(`Error loading script: ${paths[lib]}`);\n",
       "          s.src = paths[lib];\n",
       "        });\n",
       "    }\n",
       "\n",
       "    function showError(err) {\n",
       "      outputDiv.innerHTML = `<div class=\"error\" style=\"color:red;\">${err}</div>`;\n",
       "      throw err;\n",
       "    }\n",
       "\n",
       "    function displayChart(vegaEmbed) {\n",
       "      vegaEmbed(outputDiv, spec, embedOpt)\n",
       "        .catch(err => showError(`Javascript Error: ${err.message}<br>This usually means there's a typo in your chart specification. See the javascript console for the full traceback.`));\n",
       "    }\n",
       "\n",
       "    if(typeof define === \"function\" && define.amd) {\n",
       "      requirejs.config({paths});\n",
       "      require([\"vega-embed\"], displayChart, err => showError(`Error loading script: ${err.message}`));\n",
       "    } else {\n",
       "      maybeLoadScript(\"vega\", \"5\")\n",
       "        .then(() => maybeLoadScript(\"vega-lite\", \"4.17.0\"))\n",
       "        .then(() => maybeLoadScript(\"vega-embed\", \"6\"))\n",
       "        .catch(showError)\n",
       "        .then(() => displayChart(vegaEmbed));\n",
       "    }\n",
       "  })({\"config\": {\"view\": {\"continuousWidth\": 400, \"continuousHeight\": 300}}, \"hconcat\": [{\"mark\": \"rect\", \"encoding\": {\"color\": {\"aggregate\": \"count\", \"scale\": {\"scheme\": \"reds\", \"type\": \"log\"}, \"type\": \"quantitative\"}, \"x\": {\"bin\": {\"maxbins\": 20}, \"field\": \"Loudness\", \"type\": \"quantitative\"}, \"y\": {\"bin\": {\"maxbins\": 20}, \"field\": \"Energy\", \"type\": \"quantitative\"}}, \"height\": 200, \"width\": 400}, {\"mark\": \"rect\", \"encoding\": {\"color\": {\"aggregate\": \"count\", \"scale\": {\"scheme\": \"reds\", \"type\": \"log\"}, \"type\": \"quantitative\"}, \"x\": {\"bin\": {\"maxbins\": 20}, \"field\": \"Acousticness\", \"type\": \"quantitative\"}, \"y\": {\"bin\": {\"maxbins\": 20}, \"field\": \"Energy\", \"type\": \"quantitative\"}}, \"height\": 200, \"width\": 400}], \"data\": {\"url\": \"http://localhost:15227/adfb00e4a7e30953fec224b4c1289185.json\"}, \"title\": \"Relationships Between Energy and both Loudness and Acousticness\", \"$schema\": \"https://vega.github.io/schema/vega-lite/v4.17.0.json\"}, {\"mode\": \"vega-lite\"});\n",
       "</script>"
      ],
      "text/plain": [
       "alt.HConcatChart(...)"
      ]
     },
     "execution_count": 16,
     "metadata": {},
     "output_type": "execute_result"
    }
   ],
   "source": [
    "a = alt.Chart(data).mark_rect().encode(\n",
    "    alt.Color('count()', scale=alt.Scale(type='log',scheme='reds')),\n",
    "    x = alt.X('Loudness', bin=alt.Bin(maxbins=20)), \n",
    "    y = alt.Y('Energy', bin=alt.Bin(maxbins=20))\n",
    "    ).properties(\n",
    "    height=200,\n",
    "    width =400\n",
    "    )\n",
    "b = alt.Chart(data).mark_rect().encode(\n",
    "    alt.Color('count()', scale=alt.Scale(type='log',scheme='reds')),\n",
    "    x = alt.X('Acousticness', bin=alt.Bin(maxbins=20)), \n",
    "    y = alt.Y('Energy', bin=alt.Bin(maxbins=20))\n",
    "    ).properties(\n",
    "    height=200,\n",
    "    width = 400\n",
    "    )\n",
    "\n",
    "plot = a|b\n",
    "plot.title = \"Relationships Between Energy and both Loudness and Acousticness\"\n",
    "plot"
   ]
  },
  {
   "cell_type": "markdown",
   "id": "3dad6e45-cf13-4afb-b853-7e5632ac82f8",
   "metadata": {},
   "source": [
    "Here we can see that as suggested by the correlation plot, there appears to be a positive relationship between energy and loudness, and a negative relationship between energy and acousticness. One slight issue might be the high number of songs with 0 confidence of acousticness."
   ]
  },
  {
   "cell_type": "markdown",
   "id": "e8801861-654a-428f-b064-24eb0a000872",
   "metadata": {},
   "source": [
    "### Music Metrics Evolution over the years"
   ]
  },
  {
   "cell_type": "code",
   "execution_count": 17,
   "id": "34c97840-2d11-4871-a3a9-8e14247220d2",
   "metadata": {},
   "outputs": [],
   "source": [
    "spotify_songs[\"track_album_release_date\"]=pd.to_datetime(spotify_songs[\"track_album_release_date\"])\n",
    "spotify_song_monthly = spotify_songs[~spotify_songs.isnull()]\n",
    "spotify_song_monthly= spotify_song_monthly[[\"track_album_release_date\",\"speechiness\",\"tempo\",\"track_popularity\"]].resample('Y', on='track_album_release_date').mean()\n",
    "spotify_song_monthly.index = spotify_song_monthly.index.strftime(\"%Y\")\n",
    "spotify_song_monthly=spotify_song_monthly.dropna()\n",
    "spotify_song_monthly=spotify_song_monthly.reset_index()"
   ]
  },
  {
   "cell_type": "code",
   "execution_count": 18,
   "id": "d57ed948-b375-4b10-a3aa-050ec81b8444",
   "metadata": {},
   "outputs": [
    {
     "data": {
      "text/html": [
       "\n",
       "<div id=\"altair-viz-4a322e6e526d49e89da1e823a0a2336d\"></div>\n",
       "<script type=\"text/javascript\">\n",
       "  var VEGA_DEBUG = (typeof VEGA_DEBUG == \"undefined\") ? {} : VEGA_DEBUG;\n",
       "  (function(spec, embedOpt){\n",
       "    let outputDiv = document.currentScript.previousElementSibling;\n",
       "    if (outputDiv.id !== \"altair-viz-4a322e6e526d49e89da1e823a0a2336d\") {\n",
       "      outputDiv = document.getElementById(\"altair-viz-4a322e6e526d49e89da1e823a0a2336d\");\n",
       "    }\n",
       "    const paths = {\n",
       "      \"vega\": \"https://cdn.jsdelivr.net/npm//vega@5?noext\",\n",
       "      \"vega-lib\": \"https://cdn.jsdelivr.net/npm//vega-lib?noext\",\n",
       "      \"vega-lite\": \"https://cdn.jsdelivr.net/npm//vega-lite@4.17.0?noext\",\n",
       "      \"vega-embed\": \"https://cdn.jsdelivr.net/npm//vega-embed@6?noext\",\n",
       "    };\n",
       "\n",
       "    function maybeLoadScript(lib, version) {\n",
       "      var key = `${lib.replace(\"-\", \"\")}_version`;\n",
       "      return (VEGA_DEBUG[key] == version) ?\n",
       "        Promise.resolve(paths[lib]) :\n",
       "        new Promise(function(resolve, reject) {\n",
       "          var s = document.createElement('script');\n",
       "          document.getElementsByTagName(\"head\")[0].appendChild(s);\n",
       "          s.async = true;\n",
       "          s.onload = () => {\n",
       "            VEGA_DEBUG[key] = version;\n",
       "            return resolve(paths[lib]);\n",
       "          };\n",
       "          s.onerror = () => reject(`Error loading script: ${paths[lib]}`);\n",
       "          s.src = paths[lib];\n",
       "        });\n",
       "    }\n",
       "\n",
       "    function showError(err) {\n",
       "      outputDiv.innerHTML = `<div class=\"error\" style=\"color:red;\">${err}</div>`;\n",
       "      throw err;\n",
       "    }\n",
       "\n",
       "    function displayChart(vegaEmbed) {\n",
       "      vegaEmbed(outputDiv, spec, embedOpt)\n",
       "        .catch(err => showError(`Javascript Error: ${err.message}<br>This usually means there's a typo in your chart specification. See the javascript console for the full traceback.`));\n",
       "    }\n",
       "\n",
       "    if(typeof define === \"function\" && define.amd) {\n",
       "      requirejs.config({paths});\n",
       "      require([\"vega-embed\"], displayChart, err => showError(`Error loading script: ${err.message}`));\n",
       "    } else {\n",
       "      maybeLoadScript(\"vega\", \"5\")\n",
       "        .then(() => maybeLoadScript(\"vega-lite\", \"4.17.0\"))\n",
       "        .then(() => maybeLoadScript(\"vega-embed\", \"6\"))\n",
       "        .catch(showError)\n",
       "        .then(() => displayChart(vegaEmbed));\n",
       "    }\n",
       "  })({\"config\": {\"view\": {\"continuousWidth\": 400, \"continuousHeight\": 300}}, \"vconcat\": [{\"mark\": {\"type\": \"line\", \"color\": \"orange\", \"opacity\": 0.8}, \"encoding\": {\"x\": {\"axis\": {}, \"field\": \"track_album_release_date\", \"title\": \"Album Release Date\", \"type\": \"nominal\"}, \"y\": {\"field\": \"speechiness\", \"type\": \"quantitative\"}}, \"height\": 100, \"title\": \"Speechiness vs Album Release Date\", \"width\": 800}, {\"mark\": {\"type\": \"line\", \"color\": \"blue\", \"opacity\": 0.5}, \"encoding\": {\"x\": {\"axis\": {}, \"field\": \"track_album_release_date\", \"title\": \"Album Release Date\", \"type\": \"ordinal\"}, \"y\": {\"field\": \"tempo\", \"type\": \"quantitative\"}}, \"height\": 100, \"title\": \"Tempo vs Album Release Date\", \"width\": 800}, {\"mark\": {\"type\": \"line\", \"color\": \"green\", \"opacity\": 0.3}, \"encoding\": {\"x\": {\"axis\": {}, \"field\": \"track_album_release_date\", \"title\": \"Album Release Date\", \"type\": \"ordinal\"}, \"y\": {\"axis\": {}, \"field\": \"track_popularity\", \"title\": \"Popularity\", \"type\": \"quantitative\"}}, \"height\": 100, \"title\": \"Popularity vs Release Date\", \"width\": 800}], \"data\": {\"url\": \"http://localhost:15227/f88d3cf75f67b5fcb0c79ee906dd6b2c.json\"}, \"$schema\": \"https://vega.github.io/schema/vega-lite/v4.17.0.json\"}, {\"mode\": \"vega-lite\"});\n",
       "</script>"
      ],
      "text/plain": [
       "alt.VConcatChart(...)"
      ]
     },
     "execution_count": 18,
     "metadata": {},
     "output_type": "execute_result"
    }
   ],
   "source": [
    "graph1 = alt.Chart(spotify_song_monthly).mark_line(color=\"orange\",opacity=0.8).encode(\n",
    "    y=alt.Y(\"speechiness\", type='quantitative',),\n",
    "    x=alt.X('track_album_release_date',title=\"Album Release Date\",axis=alt.Axis()),\n",
    ").properties(    \n",
    "    width=800,\n",
    "    height=100,\n",
    "    title=\"Speechiness vs Album Release Date\"\n",
    "\n",
    ")\n",
    "graph2 = alt.Chart(spotify_song_monthly).mark_line(color=\"blue\",opacity=0.5).encode(\n",
    "    y=alt.Y('tempo', type='quantitative'),\n",
    "    x=alt.X('track_album_release_date:O',title=\"Album Release Date\",axis=alt.Axis()),\n",
    ").properties(\n",
    "    width=800,\n",
    "    height=100,\n",
    "    title = \"Tempo vs Album Release Date\"\n",
    ")\n",
    "\n",
    "graph3 = alt.Chart(spotify_song_monthly).mark_line(color=\"green\",opacity=0.3).encode(\n",
    "    y=alt.Y('track_popularity', type='quantitative',title=\"Popularity\",axis=alt.Axis()),\n",
    "    x=alt.X('track_album_release_date:O',title=\"Album Release Date\",axis=alt.Axis()),\n",
    ").properties(\n",
    "    width=800,\n",
    "    height=100,\n",
    "    title = \"Popularity vs Release Date\")\n",
    "       \n",
    "graph1 & graph2 & graph3"
   ]
  },
  {
   "cell_type": "markdown",
   "id": "5610de44-f42b-4dac-9d20-2f0e6e1c37cd",
   "metadata": {},
   "source": [
    "It seems like vocals used in music took a sharp turn up ever since the mid 80s. This is also when the Pop genre gained in popularity. There might seems to be some link between these two.\n",
    "Tempo has also been steadily decreasing over the years though it seems like it has reached a sweet spot of around 120 now.\n",
    "Interestingly, popularity in music overall has decreased gradually over the last 50 years though it has started to pick back up ever since the mid 2010s"
   ]
  },
  {
   "cell_type": "markdown",
   "id": "77b6b674-58f1-46be-9b14-b7d54578916e",
   "metadata": {},
   "source": [
    "### Genre Popularity over the years"
   ]
  },
  {
   "cell_type": "code",
   "execution_count": 19,
   "id": "5c167ec5-4823-42eb-8f88-01e06f24c6ba",
   "metadata": {},
   "outputs": [],
   "source": [
    "spotify_songs[\"year\"] = spotify_songs['track_album_release_date'].dt.year.astype('int')\n",
    "spotify_songs_track = pd.DataFrame()\n",
    "for artist in set(spotify_songs[\"track_artist\"]):\n",
    "    artist_df = spotify_songs[spotify_songs[\"track_artist\"]==artist]\n",
    "    for year in set(artist_df[\"year\"]):\n",
    "        artist_df_year = spotify_songs[spotify_songs[\"year\"]==year]\n",
    "        song = artist_df_year.sort_values(\"track_popularity\",ascending=False).reset_index().loc[0,[\"track_artist\",\"playlist_genre\",\"track_name\",\"year\"]]\n",
    "        spotify_songs_track = spotify_songs_track.append(song,ignore_index=True)\n",
    "        \n",
    "spotify_songs_track = spotify_songs.groupby(['year'])['track_popularity'].max().reset_index()\n",
    "\n",
    "spotify_songs_track2 = pd.DataFrame()\n",
    "for index in spotify_songs_track.index:\n",
    "    temp=spotify_songs[spotify_songs[\"year\"]==spotify_songs_track.loc[index,\"year\"]]\n",
    "    temp = temp[temp[\"track_popularity\"]==spotify_songs_track.loc[index,\"track_popularity\"]]\n",
    "    spotify_songs_track2=spotify_songs_track2.append(temp)       "
   ]
  },
  {
   "cell_type": "code",
   "execution_count": 20,
   "id": "c757a5c9-5206-4e15-ad6d-10d6db2546eb",
   "metadata": {},
   "outputs": [
    {
     "data": {
      "text/html": [
       "\n",
       "<div id=\"altair-viz-6e6dd884184b46a5b825e9562ede0021\"></div>\n",
       "<script type=\"text/javascript\">\n",
       "  var VEGA_DEBUG = (typeof VEGA_DEBUG == \"undefined\") ? {} : VEGA_DEBUG;\n",
       "  (function(spec, embedOpt){\n",
       "    let outputDiv = document.currentScript.previousElementSibling;\n",
       "    if (outputDiv.id !== \"altair-viz-6e6dd884184b46a5b825e9562ede0021\") {\n",
       "      outputDiv = document.getElementById(\"altair-viz-6e6dd884184b46a5b825e9562ede0021\");\n",
       "    }\n",
       "    const paths = {\n",
       "      \"vega\": \"https://cdn.jsdelivr.net/npm//vega@5?noext\",\n",
       "      \"vega-lib\": \"https://cdn.jsdelivr.net/npm//vega-lib?noext\",\n",
       "      \"vega-lite\": \"https://cdn.jsdelivr.net/npm//vega-lite@4.17.0?noext\",\n",
       "      \"vega-embed\": \"https://cdn.jsdelivr.net/npm//vega-embed@6?noext\",\n",
       "    };\n",
       "\n",
       "    function maybeLoadScript(lib, version) {\n",
       "      var key = `${lib.replace(\"-\", \"\")}_version`;\n",
       "      return (VEGA_DEBUG[key] == version) ?\n",
       "        Promise.resolve(paths[lib]) :\n",
       "        new Promise(function(resolve, reject) {\n",
       "          var s = document.createElement('script');\n",
       "          document.getElementsByTagName(\"head\")[0].appendChild(s);\n",
       "          s.async = true;\n",
       "          s.onload = () => {\n",
       "            VEGA_DEBUG[key] = version;\n",
       "            return resolve(paths[lib]);\n",
       "          };\n",
       "          s.onerror = () => reject(`Error loading script: ${paths[lib]}`);\n",
       "          s.src = paths[lib];\n",
       "        });\n",
       "    }\n",
       "\n",
       "    function showError(err) {\n",
       "      outputDiv.innerHTML = `<div class=\"error\" style=\"color:red;\">${err}</div>`;\n",
       "      throw err;\n",
       "    }\n",
       "\n",
       "    function displayChart(vegaEmbed) {\n",
       "      vegaEmbed(outputDiv, spec, embedOpt)\n",
       "        .catch(err => showError(`Javascript Error: ${err.message}<br>This usually means there's a typo in your chart specification. See the javascript console for the full traceback.`));\n",
       "    }\n",
       "\n",
       "    if(typeof define === \"function\" && define.amd) {\n",
       "      requirejs.config({paths});\n",
       "      require([\"vega-embed\"], displayChart, err => showError(`Error loading script: ${err.message}`));\n",
       "    } else {\n",
       "      maybeLoadScript(\"vega\", \"5\")\n",
       "        .then(() => maybeLoadScript(\"vega-lite\", \"4.17.0\"))\n",
       "        .then(() => maybeLoadScript(\"vega-embed\", \"6\"))\n",
       "        .catch(showError)\n",
       "        .then(() => displayChart(vegaEmbed));\n",
       "    }\n",
       "  })({\"config\": {\"view\": {\"continuousWidth\": 400, \"continuousHeight\": 300}, \"title\": {\"fontSize\": 20}}, \"data\": {\"url\": \"http://localhost:15227/c677822b595ee763480c338299d85cb9.json\"}, \"mark\": \"bar\", \"encoding\": {\"color\": {\"field\": \"playlist_genre\", \"type\": \"nominal\"}, \"order\": {\"field\": \"playlist_genre\", \"sort\": \"ascending\", \"type\": \"nominal\"}, \"x\": {\"field\": \"year\", \"title\": \"year\", \"type\": \"ordinal\"}, \"y\": {\"field\": \"track_popularity\", \"title\": \"Popularity\", \"type\": \"quantitative\"}}, \"title\": \"Music Genre evolution over the years (popularity) \", \"width\": 900, \"$schema\": \"https://vega.github.io/schema/vega-lite/v4.17.0.json\"}, {\"mode\": \"vega-lite\"});\n",
       "</script>"
      ],
      "text/plain": [
       "alt.Chart(...)"
      ]
     },
     "execution_count": 20,
     "metadata": {},
     "output_type": "execute_result"
    }
   ],
   "source": [
    "track_all = alt.Chart(spotify_songs_track2).mark_bar().encode(\n",
    "    y=alt.Y('track_popularity:Q',title=\"Popularity\"),\n",
    "    x=alt.X('year:O',title=\"year\"),\n",
    "    color=alt.Color('playlist_genre'),\n",
    "    order=alt.Order('playlist_genre',\n",
    "      sort='ascending'\n",
    "    )\n",
    ").properties(title=\"Music Genre evolution over the years (popularity) \", width=900).configure_title(fontSize=20)\n",
    "\n",
    "track_all"
   ]
  },
  {
   "cell_type": "markdown",
   "id": "e6c9e687-504a-496a-b6ac-7fd1ca84da7e",
   "metadata": {},
   "source": [
    "Genre preference has evolved quite a bit over the last 50 years. It seems like R&B as well as Rock dominated the mainstream popularity till the mid 80s. Ever since then, Pop seems to have emerged as the dominant genre. The late 2000s till 2020 sees the most diverse variety in terms of musical interests."
   ]
  },
  {
   "cell_type": "markdown",
   "id": "35f15857-3d53-49b5-836a-d25e11824ecd",
   "metadata": {},
   "source": [
    "### Popular music key metrics"
   ]
  },
  {
   "cell_type": "code",
   "execution_count": 21,
   "id": "5ee67b4f-5799-4f6f-8375-78c60625eb06",
   "metadata": {},
   "outputs": [
    {
     "data": {
      "text/html": [
       "\n",
       "<div id=\"altair-viz-1422be7e994f496eb0ec979b3f83e6f5\"></div>\n",
       "<script type=\"text/javascript\">\n",
       "  var VEGA_DEBUG = (typeof VEGA_DEBUG == \"undefined\") ? {} : VEGA_DEBUG;\n",
       "  (function(spec, embedOpt){\n",
       "    let outputDiv = document.currentScript.previousElementSibling;\n",
       "    if (outputDiv.id !== \"altair-viz-1422be7e994f496eb0ec979b3f83e6f5\") {\n",
       "      outputDiv = document.getElementById(\"altair-viz-1422be7e994f496eb0ec979b3f83e6f5\");\n",
       "    }\n",
       "    const paths = {\n",
       "      \"vega\": \"https://cdn.jsdelivr.net/npm//vega@5?noext\",\n",
       "      \"vega-lib\": \"https://cdn.jsdelivr.net/npm//vega-lib?noext\",\n",
       "      \"vega-lite\": \"https://cdn.jsdelivr.net/npm//vega-lite@4.17.0?noext\",\n",
       "      \"vega-embed\": \"https://cdn.jsdelivr.net/npm//vega-embed@6?noext\",\n",
       "    };\n",
       "\n",
       "    function maybeLoadScript(lib, version) {\n",
       "      var key = `${lib.replace(\"-\", \"\")}_version`;\n",
       "      return (VEGA_DEBUG[key] == version) ?\n",
       "        Promise.resolve(paths[lib]) :\n",
       "        new Promise(function(resolve, reject) {\n",
       "          var s = document.createElement('script');\n",
       "          document.getElementsByTagName(\"head\")[0].appendChild(s);\n",
       "          s.async = true;\n",
       "          s.onload = () => {\n",
       "            VEGA_DEBUG[key] = version;\n",
       "            return resolve(paths[lib]);\n",
       "          };\n",
       "          s.onerror = () => reject(`Error loading script: ${paths[lib]}`);\n",
       "          s.src = paths[lib];\n",
       "        });\n",
       "    }\n",
       "\n",
       "    function showError(err) {\n",
       "      outputDiv.innerHTML = `<div class=\"error\" style=\"color:red;\">${err}</div>`;\n",
       "      throw err;\n",
       "    }\n",
       "\n",
       "    function displayChart(vegaEmbed) {\n",
       "      vegaEmbed(outputDiv, spec, embedOpt)\n",
       "        .catch(err => showError(`Javascript Error: ${err.message}<br>This usually means there's a typo in your chart specification. See the javascript console for the full traceback.`));\n",
       "    }\n",
       "\n",
       "    if(typeof define === \"function\" && define.amd) {\n",
       "      requirejs.config({paths});\n",
       "      require([\"vega-embed\"], displayChart, err => showError(`Error loading script: ${err.message}`));\n",
       "    } else {\n",
       "      maybeLoadScript(\"vega\", \"5\")\n",
       "        .then(() => maybeLoadScript(\"vega-lite\", \"4.17.0\"))\n",
       "        .then(() => maybeLoadScript(\"vega-embed\", \"6\"))\n",
       "        .catch(showError)\n",
       "        .then(() => displayChart(vegaEmbed));\n",
       "    }\n",
       "  })({\"config\": {\"view\": {\"continuousWidth\": 400, \"continuousHeight\": 300}}, \"hconcat\": [{\"mark\": \"bar\", \"encoding\": {\"color\": {\"field\": \"playlist_genre\", \"title\": \"Genre\", \"type\": \"nominal\"}, \"x\": {\"field\": \"playlist_genre\", \"sort\": \"-y\", \"title\": \"Genre\", \"type\": \"ordinal\"}, \"y\": {\"aggregate\": \"sum\", \"field\": \"track_popularity\", \"title\": \"Popularity\", \"type\": \"quantitative\"}}, \"height\": 300, \"title\": \"Genre vs Popularity\", \"width\": 250}, {\"mark\": {\"type\": \"circle\", \"color\": \"violet\"}, \"encoding\": {\"x\": {\"field\": \"loudness\", \"sort\": \"-y\", \"title\": \"Loudness\", \"type\": \"quantitative\"}, \"y\": {\"aggregate\": \"sum\", \"field\": \"track_popularity\", \"title\": \"Popularity\", \"type\": \"quantitative\"}}, \"height\": 300, \"title\": \"Loudness vs Popularity\", \"width\": 250}, {\"mark\": \"bar\", \"encoding\": {\"x\": {\"bin\": true, \"field\": \"duration_ms\", \"sort\": \"-y\", \"title\": \"Song Duration (milliseconds)\", \"type\": \"quantitative\"}, \"y\": {\"aggregate\": \"sum\", \"field\": \"track_popularity\", \"title\": \"Popularity\", \"type\": \"quantitative\"}}, \"height\": 300, \"title\": \"Song Duration vs Popularity\", \"width\": 250}], \"data\": {\"url\": \"http://localhost:15227/99d3c37fd0762ce3f2088367eb636f8a.json\"}, \"$schema\": \"https://vega.github.io/schema/vega-lite/v4.17.0.json\"}, {\"mode\": \"vega-lite\"});\n",
       "</script>"
      ],
      "text/plain": [
       "alt.HConcatChart(...)"
      ]
     },
     "execution_count": 21,
     "metadata": {},
     "output_type": "execute_result"
    }
   ],
   "source": [
    "graph1 = alt.Chart(spotify_songs).mark_bar().encode(\n",
    "    x=alt.X(\"playlist_genre:O\",sort=\"-y\",title=\"Genre\"),\n",
    "    y=alt.Y('sum(track_popularity)',title=\"Popularity\"),\n",
    "    color=alt.Color('playlist_genre',title=\"Genre\")\n",
    ").properties(\n",
    "    width=250,\n",
    "    height=300,\n",
    "    title=\"Genre vs Popularity\"\n",
    ")\n",
    "\n",
    "graph2 = alt.Chart(spotify_songs).mark_circle(color=\"violet\").encode(\n",
    "    x=alt.X(\"loudness:Q\",sort=\"-y\",title=\"Loudness\"),\n",
    "    y=alt.Y('sum(track_popularity)',title=\"Popularity\"),\n",
    ").properties(\n",
    "    width=250,\n",
    "    height=300,\n",
    "    title=\"Loudness vs Popularity\"\n",
    ")\n",
    "\n",
    "graph4 = alt.Chart(spotify_songs).mark_bar().encode(\n",
    "    x=alt.X(\"duration_ms:Q\",sort=\"-y\",bin=True,title=\"Song Duration (milliseconds)\"),\n",
    "    y=alt.Y('sum(track_popularity)',title=\"Popularity\"),\n",
    ").properties(\n",
    "    width=250,\n",
    "    height=300,\n",
    "    title=\"Song Duration vs Popularity\"\n",
    ")\n",
    "(graph1|graph2|graph4)"
   ]
  },
  {
   "cell_type": "markdown",
   "id": "05f54878-a554-4a95-ac51-f5b60554a03c",
   "metadata": {},
   "source": [
    "If we wanted to create a song that would get popular, we might have a good chance of creating one which follow the metrics highlighted above. It should be a pop song, with loudness around -5, and between 200,000 milliseconds and 300,000 milliseconds."
   ]
  },
  {
   "cell_type": "markdown",
   "id": "04271680-9b6e-44d2-8578-afbd1acd6420",
   "metadata": {},
   "source": [
    "### Summary and Conclusions\n",
    "\n",
    "We saw that the different track metrics have very different distributions, which reveal some tendencies in the tracks that are available on Spotify. Notably, most songs are not very acoustic, don't contain much speech, and were not recorded. Additionally, while most songs appear to have moderate valence and popularity, there is a higher density of songs with high levels of energy and danceability. We then saw that most of these metrics are quite weakly or not at all correlated with each other, with the exception of a positive correlation between loudness and energy, and a negative correlation between accousticness and energy. Interestingly, these both seem to be fairly intuitive relationships, and were further affirmed by the 2D histograms. \n",
    "\n",
    "There were several things that we expected to see during our observations and that seemed to have consensis with the data as well. But there were several surprises as well. I never thought that in terms of popularity, there would be a steady decrease since the 50s. We always like to think in the sense that the generation we were born in had the most popular music but that doesn't seem to be the case when we view this objectively. "
   ]
  },
  {
   "cell_type": "markdown",
   "id": "6ee5a5b7-3302-4175-9f4c-638fe547b1ee",
   "metadata": {},
   "source": [
    "## **Follow-Up Research Questions**"
   ]
  },
  {
   "cell_type": "markdown",
   "id": "949b76ba-0bdd-4a0a-93bb-14342f487119",
   "metadata": {},
   "source": [
    "1. Would there be more clear relationships or different relationships between the metrics if we separated into genres? The initial data set didn't have song genres, just playlist ones, so we would need another data set that included identifying information about the song (track name and artist name), along with genre. \n",
    "\n",
    "2. While the correlations between individual metrics and song popularity are quite small, how much of the variation in song popularity can be explained by these metrics if we use all of them as predictors in a linear regression? \n",
    "\n",
    "3. What could have triggered the dramatic increase in music interests in the mid 2010s? Does it have to do with economic or political factors? We would like to have access to consumer sentiment over those years to see if there was any shift in that for there to be an interest back into music."
   ]
  }
 ],
 "metadata": {
  "kernelspec": {
   "display_name": "Python 3 (ipykernel)",
   "language": "python",
   "name": "python3"
  },
  "language_info": {
   "codemirror_mode": {
    "name": "ipython",
    "version": 3
   },
   "file_extension": ".py",
   "mimetype": "text/x-python",
   "name": "python",
   "nbconvert_exporter": "python",
   "pygments_lexer": "ipython3",
   "version": "3.9.5"
  }
 },
 "nbformat": 4,
 "nbformat_minor": 5
}
