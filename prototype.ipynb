{
 "cells": [
  {
   "cell_type": "code",
   "execution_count": 1,
   "id": "1884078c-de20-4284-b100-d5d0706b67e2",
   "metadata": {},
   "outputs": [
    {
     "data": {
      "text/plain": [
       "DataTransformerRegistry.enable('data_server')"
      ]
     },
     "execution_count": 1,
     "metadata": {},
     "output_type": "execute_result"
    }
   ],
   "source": [
    "import pandas as pd\n",
    "import altair as alt\n",
    "# Save a vega-lite spec and a PNG blob for each plot in the notebook\n",
    "#alt.renderers.enable('mimetype')\n",
    "# Handle large data sets without embedding them in the notebook\n",
    "alt.data_transformers.enable('data_server')\n",
    "alt.data_transformers.disable_max_rows()"
   ]
  },
  {
   "cell_type": "code",
   "execution_count": 2,
   "id": "cd3233c5-5dbf-48f9-8e20-4be0a6521258",
   "metadata": {},
   "outputs": [],
   "source": [
    "def getSpotifyData():\n",
    "    data = pd.read_csv('https://raw.githubusercontent.com/rfordatascience/tidytuesday/master/data/2020/2020-01-21/spotify_songs.csv')\n",
    "    data = data.dropna()\n",
    "    data = data.drop(['track_id', 'track_album_id', 'playlist_id'], axis=1)\n",
    "    data.columns = [\"Name\", \"Artist\", \"Popularity\", \"Album Name\", \"Album Release Date\", \"Playlist Name\", \n",
    "                \"Playlist Genre\", \"Playlist Subgenre\", \"Danceability\", \n",
    "               \"Energy\", \"Key\", \"Loudness\", \"Mode\", \"Speechiness\", \n",
    "               \"Acousticness\", \"Instrumentalness\", \"Liveness\", \"Valence\", \n",
    "              \"Tempo\", \"Duration\"]\n",
    "    data['Playlist Genre'] = data['Playlist Genre'].str.title()\n",
    "    data['Playlist Subgenre'] = data['Playlist Subgenre'].str.title()\n",
    "    mode = {1 : 'Major', 0:'Minor'}\n",
    "    key = {0 : 'C', 1:'C#', 2: 'D', 3:'D#', 4: 'E', 5:'F', 6: 'F#', 7:'G', \n",
    "           8: 'G#', 9:'A', 10: 'B♭', 11:'B'}\n",
    "    data.replace({\"Mode\":mode}, inplace = True)\n",
    "    data.replace({\"Key\":key}, inplace = True)\n",
    "    return data"
   ]
  },
  {
   "cell_type": "code",
   "execution_count": 3,
   "id": "4d90c9c2-91b8-4d24-a7bf-13fc08a4ec05",
   "metadata": {},
   "outputs": [],
   "source": [
    "data=getSpotifyData()"
   ]
  },
  {
   "cell_type": "code",
   "execution_count": 4,
   "id": "7daa2e95-e4f6-4035-9209-247d65ae7f53",
   "metadata": {},
   "outputs": [
    {
     "data": {
      "text/html": [
       "<div>\n",
       "<style scoped>\n",
       "    .dataframe tbody tr th:only-of-type {\n",
       "        vertical-align: middle;\n",
       "    }\n",
       "\n",
       "    .dataframe tbody tr th {\n",
       "        vertical-align: top;\n",
       "    }\n",
       "\n",
       "    .dataframe thead th {\n",
       "        text-align: right;\n",
       "    }\n",
       "</style>\n",
       "<table border=\"1\" class=\"dataframe\">\n",
       "  <thead>\n",
       "    <tr style=\"text-align: right;\">\n",
       "      <th></th>\n",
       "      <th>Name</th>\n",
       "      <th>Artist</th>\n",
       "      <th>Popularity</th>\n",
       "      <th>Album Name</th>\n",
       "      <th>Album Release Date</th>\n",
       "      <th>Playlist Name</th>\n",
       "      <th>Playlist Genre</th>\n",
       "      <th>Playlist Subgenre</th>\n",
       "      <th>Danceability</th>\n",
       "      <th>Energy</th>\n",
       "      <th>Key</th>\n",
       "      <th>Loudness</th>\n",
       "      <th>Mode</th>\n",
       "      <th>Speechiness</th>\n",
       "      <th>Acousticness</th>\n",
       "      <th>Instrumentalness</th>\n",
       "      <th>Liveness</th>\n",
       "      <th>Valence</th>\n",
       "      <th>Tempo</th>\n",
       "      <th>Duration</th>\n",
       "    </tr>\n",
       "  </thead>\n",
       "  <tbody>\n",
       "    <tr>\n",
       "      <th>0</th>\n",
       "      <td>I Don't Care (with Justin Bieber) - Loud Luxur...</td>\n",
       "      <td>Ed Sheeran</td>\n",
       "      <td>66</td>\n",
       "      <td>I Don't Care (with Justin Bieber) [Loud Luxury...</td>\n",
       "      <td>2019-06-14</td>\n",
       "      <td>Pop Remix</td>\n",
       "      <td>Pop</td>\n",
       "      <td>Dance Pop</td>\n",
       "      <td>0.748</td>\n",
       "      <td>0.916</td>\n",
       "      <td>F#</td>\n",
       "      <td>-2.634</td>\n",
       "      <td>Major</td>\n",
       "      <td>0.0583</td>\n",
       "      <td>0.1020</td>\n",
       "      <td>0.000000</td>\n",
       "      <td>0.0653</td>\n",
       "      <td>0.518</td>\n",
       "      <td>122.036</td>\n",
       "      <td>194754</td>\n",
       "    </tr>\n",
       "    <tr>\n",
       "      <th>1</th>\n",
       "      <td>Memories - Dillon Francis Remix</td>\n",
       "      <td>Maroon 5</td>\n",
       "      <td>67</td>\n",
       "      <td>Memories (Dillon Francis Remix)</td>\n",
       "      <td>2019-12-13</td>\n",
       "      <td>Pop Remix</td>\n",
       "      <td>Pop</td>\n",
       "      <td>Dance Pop</td>\n",
       "      <td>0.726</td>\n",
       "      <td>0.815</td>\n",
       "      <td>B</td>\n",
       "      <td>-4.969</td>\n",
       "      <td>Major</td>\n",
       "      <td>0.0373</td>\n",
       "      <td>0.0724</td>\n",
       "      <td>0.004210</td>\n",
       "      <td>0.3570</td>\n",
       "      <td>0.693</td>\n",
       "      <td>99.972</td>\n",
       "      <td>162600</td>\n",
       "    </tr>\n",
       "    <tr>\n",
       "      <th>2</th>\n",
       "      <td>All the Time - Don Diablo Remix</td>\n",
       "      <td>Zara Larsson</td>\n",
       "      <td>70</td>\n",
       "      <td>All the Time (Don Diablo Remix)</td>\n",
       "      <td>2019-07-05</td>\n",
       "      <td>Pop Remix</td>\n",
       "      <td>Pop</td>\n",
       "      <td>Dance Pop</td>\n",
       "      <td>0.675</td>\n",
       "      <td>0.931</td>\n",
       "      <td>C#</td>\n",
       "      <td>-3.432</td>\n",
       "      <td>Minor</td>\n",
       "      <td>0.0742</td>\n",
       "      <td>0.0794</td>\n",
       "      <td>0.000023</td>\n",
       "      <td>0.1100</td>\n",
       "      <td>0.613</td>\n",
       "      <td>124.008</td>\n",
       "      <td>176616</td>\n",
       "    </tr>\n",
       "    <tr>\n",
       "      <th>3</th>\n",
       "      <td>Call You Mine - Keanu Silva Remix</td>\n",
       "      <td>The Chainsmokers</td>\n",
       "      <td>60</td>\n",
       "      <td>Call You Mine - The Remixes</td>\n",
       "      <td>2019-07-19</td>\n",
       "      <td>Pop Remix</td>\n",
       "      <td>Pop</td>\n",
       "      <td>Dance Pop</td>\n",
       "      <td>0.718</td>\n",
       "      <td>0.930</td>\n",
       "      <td>G</td>\n",
       "      <td>-3.778</td>\n",
       "      <td>Major</td>\n",
       "      <td>0.1020</td>\n",
       "      <td>0.0287</td>\n",
       "      <td>0.000009</td>\n",
       "      <td>0.2040</td>\n",
       "      <td>0.277</td>\n",
       "      <td>121.956</td>\n",
       "      <td>169093</td>\n",
       "    </tr>\n",
       "    <tr>\n",
       "      <th>4</th>\n",
       "      <td>Someone You Loved - Future Humans Remix</td>\n",
       "      <td>Lewis Capaldi</td>\n",
       "      <td>69</td>\n",
       "      <td>Someone You Loved (Future Humans Remix)</td>\n",
       "      <td>2019-03-05</td>\n",
       "      <td>Pop Remix</td>\n",
       "      <td>Pop</td>\n",
       "      <td>Dance Pop</td>\n",
       "      <td>0.650</td>\n",
       "      <td>0.833</td>\n",
       "      <td>C#</td>\n",
       "      <td>-4.672</td>\n",
       "      <td>Major</td>\n",
       "      <td>0.0359</td>\n",
       "      <td>0.0803</td>\n",
       "      <td>0.000000</td>\n",
       "      <td>0.0833</td>\n",
       "      <td>0.725</td>\n",
       "      <td>123.976</td>\n",
       "      <td>189052</td>\n",
       "    </tr>\n",
       "  </tbody>\n",
       "</table>\n",
       "</div>"
      ],
      "text/plain": [
       "                                                Name            Artist  \\\n",
       "0  I Don't Care (with Justin Bieber) - Loud Luxur...        Ed Sheeran   \n",
       "1                    Memories - Dillon Francis Remix          Maroon 5   \n",
       "2                    All the Time - Don Diablo Remix      Zara Larsson   \n",
       "3                  Call You Mine - Keanu Silva Remix  The Chainsmokers   \n",
       "4            Someone You Loved - Future Humans Remix     Lewis Capaldi   \n",
       "\n",
       "   Popularity                                         Album Name  \\\n",
       "0          66  I Don't Care (with Justin Bieber) [Loud Luxury...   \n",
       "1          67                    Memories (Dillon Francis Remix)   \n",
       "2          70                    All the Time (Don Diablo Remix)   \n",
       "3          60                        Call You Mine - The Remixes   \n",
       "4          69            Someone You Loved (Future Humans Remix)   \n",
       "\n",
       "  Album Release Date Playlist Name Playlist Genre Playlist Subgenre  \\\n",
       "0         2019-06-14     Pop Remix            Pop         Dance Pop   \n",
       "1         2019-12-13     Pop Remix            Pop         Dance Pop   \n",
       "2         2019-07-05     Pop Remix            Pop         Dance Pop   \n",
       "3         2019-07-19     Pop Remix            Pop         Dance Pop   \n",
       "4         2019-03-05     Pop Remix            Pop         Dance Pop   \n",
       "\n",
       "   Danceability  Energy Key  Loudness   Mode  Speechiness  Acousticness  \\\n",
       "0         0.748   0.916  F#    -2.634  Major       0.0583        0.1020   \n",
       "1         0.726   0.815   B    -4.969  Major       0.0373        0.0724   \n",
       "2         0.675   0.931  C#    -3.432  Minor       0.0742        0.0794   \n",
       "3         0.718   0.930   G    -3.778  Major       0.1020        0.0287   \n",
       "4         0.650   0.833  C#    -4.672  Major       0.0359        0.0803   \n",
       "\n",
       "   Instrumentalness  Liveness  Valence    Tempo  Duration  \n",
       "0          0.000000    0.0653    0.518  122.036    194754  \n",
       "1          0.004210    0.3570    0.693   99.972    162600  \n",
       "2          0.000023    0.1100    0.613  124.008    176616  \n",
       "3          0.000009    0.2040    0.277  121.956    169093  \n",
       "4          0.000000    0.0833    0.725  123.976    189052  "
      ]
     },
     "execution_count": 4,
     "metadata": {},
     "output_type": "execute_result"
    }
   ],
   "source": [
    "data.head()"
   ]
  },
  {
   "cell_type": "markdown",
   "id": "aa76db80-103a-46c4-90e0-5544a1b56c62",
   "metadata": {},
   "source": [
    "# Top 10 songs by Popularity \n",
    "## Mayukha Bheemavarapu"
   ]
  },
  {
   "cell_type": "code",
   "execution_count": 5,
   "id": "46dd4cc4-26eb-4cbe-8ab0-198636727dce",
   "metadata": {},
   "outputs": [],
   "source": [
    "data_subset=data.iloc[: , :3]\n",
    "data_subset=data_subset.groupby(['Name']).mean()\n",
    "data_subset = data_subset. reset_index()"
   ]
  },
  {
   "cell_type": "code",
   "execution_count": 6,
   "id": "3fa5a2bc-1546-428a-a605-df43741e6523",
   "metadata": {},
   "outputs": [],
   "source": [
    "top10=data_subset.nlargest(10,'Popularity')"
   ]
  },
  {
   "cell_type": "code",
   "execution_count": 7,
   "id": "5edb464d-9b1f-49cd-9a51-c1555d202e3d",
   "metadata": {},
   "outputs": [],
   "source": [
    "chart = alt.Chart(data_subset).mark_bar().encode(\n",
    "    alt.X('mean(Popularity)'),\n",
    "    alt.Y('Name',sort='-x')\n",
    ")\n"
   ]
  },
  {
   "cell_type": "code",
   "execution_count": 8,
   "id": "00a7690f-2ddd-4fcb-a2ee-d1b48da871a0",
   "metadata": {},
   "outputs": [
    {
     "data": {
      "text/html": [
       "\n",
       "<div id=\"altair-viz-411d78644afa4e51bda64e979dc1d1ce\"></div>\n",
       "<script type=\"text/javascript\">\n",
       "  var VEGA_DEBUG = (typeof VEGA_DEBUG == \"undefined\") ? {} : VEGA_DEBUG;\n",
       "  (function(spec, embedOpt){\n",
       "    let outputDiv = document.currentScript.previousElementSibling;\n",
       "    if (outputDiv.id !== \"altair-viz-411d78644afa4e51bda64e979dc1d1ce\") {\n",
       "      outputDiv = document.getElementById(\"altair-viz-411d78644afa4e51bda64e979dc1d1ce\");\n",
       "    }\n",
       "    const paths = {\n",
       "      \"vega\": \"https://cdn.jsdelivr.net/npm//vega@5?noext\",\n",
       "      \"vega-lib\": \"https://cdn.jsdelivr.net/npm//vega-lib?noext\",\n",
       "      \"vega-lite\": \"https://cdn.jsdelivr.net/npm//vega-lite@4.17.0?noext\",\n",
       "      \"vega-embed\": \"https://cdn.jsdelivr.net/npm//vega-embed@6?noext\",\n",
       "    };\n",
       "\n",
       "    function maybeLoadScript(lib, version) {\n",
       "      var key = `${lib.replace(\"-\", \"\")}_version`;\n",
       "      return (VEGA_DEBUG[key] == version) ?\n",
       "        Promise.resolve(paths[lib]) :\n",
       "        new Promise(function(resolve, reject) {\n",
       "          var s = document.createElement('script');\n",
       "          document.getElementsByTagName(\"head\")[0].appendChild(s);\n",
       "          s.async = true;\n",
       "          s.onload = () => {\n",
       "            VEGA_DEBUG[key] = version;\n",
       "            return resolve(paths[lib]);\n",
       "          };\n",
       "          s.onerror = () => reject(`Error loading script: ${paths[lib]}`);\n",
       "          s.src = paths[lib];\n",
       "        });\n",
       "    }\n",
       "\n",
       "    function showError(err) {\n",
       "      outputDiv.innerHTML = `<div class=\"error\" style=\"color:red;\">${err}</div>`;\n",
       "      throw err;\n",
       "    }\n",
       "\n",
       "    function displayChart(vegaEmbed) {\n",
       "      vegaEmbed(outputDiv, spec, embedOpt)\n",
       "        .catch(err => showError(`Javascript Error: ${err.message}<br>This usually means there's a typo in your chart specification. See the javascript console for the full traceback.`));\n",
       "    }\n",
       "\n",
       "    if(typeof define === \"function\" && define.amd) {\n",
       "      requirejs.config({paths});\n",
       "      require([\"vega-embed\"], displayChart, err => showError(`Error loading script: ${err.message}`));\n",
       "    } else {\n",
       "      maybeLoadScript(\"vega\", \"5\")\n",
       "        .then(() => maybeLoadScript(\"vega-lite\", \"4.17.0\"))\n",
       "        .then(() => maybeLoadScript(\"vega-embed\", \"6\"))\n",
       "        .catch(showError)\n",
       "        .then(() => displayChart(vegaEmbed));\n",
       "    }\n",
       "  })({\"config\": {\"view\": {\"continuousWidth\": 400, \"continuousHeight\": 300}}, \"data\": {\"url\": \"http://localhost:15157/bd1f2b6fa63b60549c1b80e89e529b7f.json\"}, \"mark\": \"bar\", \"encoding\": {\"x\": {\"aggregate\": \"mean\", \"field\": \"Popularity\", \"type\": \"quantitative\"}, \"y\": {\"field\": \"Name\", \"sort\": \"-x\", \"type\": \"nominal\"}}, \"$schema\": \"https://vega.github.io/schema/vega-lite/v4.17.0.json\"}, {\"mode\": \"vega-lite\"});\n",
       "</script>"
      ],
      "text/plain": [
       "alt.Chart(...)"
      ]
     },
     "execution_count": 8,
     "metadata": {},
     "output_type": "execute_result"
    }
   ],
   "source": [
    "chart = alt.Chart(top10).mark_bar().encode(\n",
    "    alt.X('mean(Popularity)'),\n",
    "    alt.Y('Name',sort='-x')\n",
    ")\n",
    "chart"
   ]
  },
  {
   "cell_type": "markdown",
   "id": "ec52df9e-9048-429b-b7bc-2b67eafccb06",
   "metadata": {},
   "source": [
    "# Trend over years for each genre\n",
    "\n",
    "## Xin Tian"
   ]
  },
  {
   "cell_type": "code",
   "execution_count": 9,
   "id": "65697728-e0dd-4df8-96c6-9b2070cd1a52",
   "metadata": {},
   "outputs": [
    {
     "data": {
      "text/html": [
       "\n",
       "<div id=\"altair-viz-f52df6d9614f40d583c37372060e6b71\"></div>\n",
       "<script type=\"text/javascript\">\n",
       "  var VEGA_DEBUG = (typeof VEGA_DEBUG == \"undefined\") ? {} : VEGA_DEBUG;\n",
       "  (function(spec, embedOpt){\n",
       "    let outputDiv = document.currentScript.previousElementSibling;\n",
       "    if (outputDiv.id !== \"altair-viz-f52df6d9614f40d583c37372060e6b71\") {\n",
       "      outputDiv = document.getElementById(\"altair-viz-f52df6d9614f40d583c37372060e6b71\");\n",
       "    }\n",
       "    const paths = {\n",
       "      \"vega\": \"https://cdn.jsdelivr.net/npm//vega@5?noext\",\n",
       "      \"vega-lib\": \"https://cdn.jsdelivr.net/npm//vega-lib?noext\",\n",
       "      \"vega-lite\": \"https://cdn.jsdelivr.net/npm//vega-lite@4.17.0?noext\",\n",
       "      \"vega-embed\": \"https://cdn.jsdelivr.net/npm//vega-embed@6?noext\",\n",
       "    };\n",
       "\n",
       "    function maybeLoadScript(lib, version) {\n",
       "      var key = `${lib.replace(\"-\", \"\")}_version`;\n",
       "      return (VEGA_DEBUG[key] == version) ?\n",
       "        Promise.resolve(paths[lib]) :\n",
       "        new Promise(function(resolve, reject) {\n",
       "          var s = document.createElement('script');\n",
       "          document.getElementsByTagName(\"head\")[0].appendChild(s);\n",
       "          s.async = true;\n",
       "          s.onload = () => {\n",
       "            VEGA_DEBUG[key] = version;\n",
       "            return resolve(paths[lib]);\n",
       "          };\n",
       "          s.onerror = () => reject(`Error loading script: ${paths[lib]}`);\n",
       "          s.src = paths[lib];\n",
       "        });\n",
       "    }\n",
       "\n",
       "    function showError(err) {\n",
       "      outputDiv.innerHTML = `<div class=\"error\" style=\"color:red;\">${err}</div>`;\n",
       "      throw err;\n",
       "    }\n",
       "\n",
       "    function displayChart(vegaEmbed) {\n",
       "      vegaEmbed(outputDiv, spec, embedOpt)\n",
       "        .catch(err => showError(`Javascript Error: ${err.message}<br>This usually means there's a typo in your chart specification. See the javascript console for the full traceback.`));\n",
       "    }\n",
       "\n",
       "    if(typeof define === \"function\" && define.amd) {\n",
       "      requirejs.config({paths});\n",
       "      require([\"vega-embed\"], displayChart, err => showError(`Error loading script: ${err.message}`));\n",
       "    } else {\n",
       "      maybeLoadScript(\"vega\", \"5\")\n",
       "        .then(() => maybeLoadScript(\"vega-lite\", \"4.17.0\"))\n",
       "        .then(() => maybeLoadScript(\"vega-embed\", \"6\"))\n",
       "        .catch(showError)\n",
       "        .then(() => displayChart(vegaEmbed));\n",
       "    }\n",
       "  })({\"config\": {\"view\": {\"continuousWidth\": 400, \"continuousHeight\": 300}}, \"data\": {\"url\": \"http://localhost:15157/266f4a1e4a07d0f3a7a5059c33887088.json\"}, \"mark\": \"line\", \"encoding\": {\"color\": {\"field\": \"Playlist Genre\", \"type\": \"nominal\"}, \"x\": {\"field\": \"Album Release Date\", \"timeUnit\": \"year\", \"type\": \"temporal\"}, \"y\": {\"aggregate\": \"mean\", \"field\": \"Popularity\", \"sort\": \"-x\", \"type\": \"quantitative\"}}, \"height\": 450, \"width\": 800, \"$schema\": \"https://vega.github.io/schema/vega-lite/v4.17.0.json\"}, {\"mode\": \"vega-lite\"});\n",
       "</script>"
      ],
      "text/plain": [
       "alt.Chart(...)"
      ]
     },
     "execution_count": 9,
     "metadata": {},
     "output_type": "execute_result"
    }
   ],
   "source": [
    "chart = alt.Chart(data).mark_line().encode(\n",
    "    alt.X('year(Album Release Date)'),\n",
    "    alt.Y('mean(Popularity)',sort='-x'),\n",
    "    color=alt.Color('Playlist Genre')\n",
    ").properties(\n",
    "\n",
    "    width=800,\n",
    "    height=450\n",
    "\n",
    ")\n",
    "chart"
   ]
  },
  {
   "cell_type": "markdown",
   "id": "97608a65-90ed-4cb9-9dfb-d7066ead4fae",
   "metadata": {},
   "source": [
    "# Count of songs over years\n",
    "## Sarah Hall"
   ]
  },
  {
   "cell_type": "code",
   "execution_count": 11,
   "id": "cf77aeaa-5ff2-4b99-9651-de001068aac2",
   "metadata": {},
   "outputs": [
    {
     "data": {
      "text/html": [
       "\n",
       "<div id=\"altair-viz-a79d4ddc5272403997aad8e19de44efe\"></div>\n",
       "<script type=\"text/javascript\">\n",
       "  var VEGA_DEBUG = (typeof VEGA_DEBUG == \"undefined\") ? {} : VEGA_DEBUG;\n",
       "  (function(spec, embedOpt){\n",
       "    let outputDiv = document.currentScript.previousElementSibling;\n",
       "    if (outputDiv.id !== \"altair-viz-a79d4ddc5272403997aad8e19de44efe\") {\n",
       "      outputDiv = document.getElementById(\"altair-viz-a79d4ddc5272403997aad8e19de44efe\");\n",
       "    }\n",
       "    const paths = {\n",
       "      \"vega\": \"https://cdn.jsdelivr.net/npm//vega@5?noext\",\n",
       "      \"vega-lib\": \"https://cdn.jsdelivr.net/npm//vega-lib?noext\",\n",
       "      \"vega-lite\": \"https://cdn.jsdelivr.net/npm//vega-lite@4.17.0?noext\",\n",
       "      \"vega-embed\": \"https://cdn.jsdelivr.net/npm//vega-embed@6?noext\",\n",
       "    };\n",
       "\n",
       "    function maybeLoadScript(lib, version) {\n",
       "      var key = `${lib.replace(\"-\", \"\")}_version`;\n",
       "      return (VEGA_DEBUG[key] == version) ?\n",
       "        Promise.resolve(paths[lib]) :\n",
       "        new Promise(function(resolve, reject) {\n",
       "          var s = document.createElement('script');\n",
       "          document.getElementsByTagName(\"head\")[0].appendChild(s);\n",
       "          s.async = true;\n",
       "          s.onload = () => {\n",
       "            VEGA_DEBUG[key] = version;\n",
       "            return resolve(paths[lib]);\n",
       "          };\n",
       "          s.onerror = () => reject(`Error loading script: ${paths[lib]}`);\n",
       "          s.src = paths[lib];\n",
       "        });\n",
       "    }\n",
       "\n",
       "    function showError(err) {\n",
       "      outputDiv.innerHTML = `<div class=\"error\" style=\"color:red;\">${err}</div>`;\n",
       "      throw err;\n",
       "    }\n",
       "\n",
       "    function displayChart(vegaEmbed) {\n",
       "      vegaEmbed(outputDiv, spec, embedOpt)\n",
       "        .catch(err => showError(`Javascript Error: ${err.message}<br>This usually means there's a typo in your chart specification. See the javascript console for the full traceback.`));\n",
       "    }\n",
       "\n",
       "    if(typeof define === \"function\" && define.amd) {\n",
       "      requirejs.config({paths});\n",
       "      require([\"vega-embed\"], displayChart, err => showError(`Error loading script: ${err.message}`));\n",
       "    } else {\n",
       "      maybeLoadScript(\"vega\", \"5\")\n",
       "        .then(() => maybeLoadScript(\"vega-lite\", \"4.17.0\"))\n",
       "        .then(() => maybeLoadScript(\"vega-embed\", \"6\"))\n",
       "        .catch(showError)\n",
       "        .then(() => displayChart(vegaEmbed));\n",
       "    }\n",
       "  })({\"config\": {\"view\": {\"continuousWidth\": 400, \"continuousHeight\": 300}}, \"data\": {\"url\": \"http://localhost:15157/266f4a1e4a07d0f3a7a5059c33887088.json\"}, \"mark\": \"line\", \"encoding\": {\"color\": {\"field\": \"Playlist Genre\", \"type\": \"nominal\"}, \"x\": {\"field\": \"Album Release Date\", \"timeUnit\": \"year\", \"type\": \"temporal\"}, \"y\": {\"aggregate\": \"count\", \"field\": \"Name\", \"sort\": \"-x\", \"type\": \"nominal\"}}, \"height\": 450, \"width\": 800, \"$schema\": \"https://vega.github.io/schema/vega-lite/v4.17.0.json\"}, {\"mode\": \"vega-lite\"});\n",
       "</script>"
      ],
      "text/plain": [
       "alt.Chart(...)"
      ]
     },
     "execution_count": 11,
     "metadata": {},
     "output_type": "execute_result"
    }
   ],
   "source": [
    "chart = alt.Chart(data).mark_line().encode(\n",
    "    alt.X('year(Album Release Date)'),\n",
    "    alt.Y('count(Name)',sort='-x'),\n",
    "    color=alt.Color('Playlist Genre')\n",
    ").properties(\n",
    "\n",
    "    width=800,\n",
    "    height=450\n",
    "\n",
    ")\n",
    "chart"
   ]
  },
  {
   "cell_type": "markdown",
   "id": "1d90c721-2914-4034-91b4-c7fb784ea0c1",
   "metadata": {},
   "source": [
    "# pie chart for each genre (by sub genre)\n",
    "## Neethu G"
   ]
  },
  {
   "cell_type": "code",
   "execution_count": 13,
   "id": "653fffad-74e0-4678-91c8-43371ff5c217",
   "metadata": {},
   "outputs": [],
   "source": [
    "#(to do)"
   ]
  },
  {
   "cell_type": "code",
   "execution_count": null,
   "id": "30e3196d-c034-4c08-b8eb-ed7632340fef",
   "metadata": {},
   "outputs": [],
   "source": []
  },
  {
   "cell_type": "code",
   "execution_count": null,
   "id": "256979da-274b-4117-8ea8-a49b0d9772db",
   "metadata": {},
   "outputs": [],
   "source": []
  },
  {
   "cell_type": "code",
   "execution_count": null,
   "id": "a873557c-4cbd-4b52-8cf2-43df68f6867d",
   "metadata": {},
   "outputs": [],
   "source": []
  },
  {
   "cell_type": "code",
   "execution_count": 35,
   "id": "ead37f17-53d0-42eb-9807-f688e5c84d3f",
   "metadata": {},
   "outputs": [],
   "source": [
    "data_filtered2 = data_filtered[[\"Energy\", \"Valence\",\"Danceability\",\"Acousticness\"]]\n"
   ]
  },
  {
   "cell_type": "code",
   "execution_count": 37,
   "id": "3d764b80-e66f-4f73-8ba8-91f9a269755e",
   "metadata": {},
   "outputs": [
    {
     "data": {
      "text/plain": [
       "<AxesSubplot:>"
      ]
     },
     "execution_count": 37,
     "metadata": {},
     "output_type": "execute_result"
    },
    {
     "data": {
      "image/png": "[encoded data removed]",
      "text/plain": [
       "<Figure size 432x288 with 1 Axes>"
      ]
     },
     "metadata": {
      "needs_background": "light"
     },
     "output_type": "display_data"
    }
   ],
   "source": [
    "data_filtered2.boxplot()"
   ]
  },
  {
   "cell_type": "code",
   "execution_count": 33,
   "id": "8d67c149-0be9-4d12-8df2-8844a33e9b5e",
   "metadata": {},
   "outputs": [
    {
     "data": {
      "text/plain": [
       "<AxesSubplot:>"
      ]
     },
     "execution_count": 33,
     "metadata": {},
     "output_type": "execute_result"
    },
    {
     "data": {
      "image/png": "[encoded data removed]",
      "text/plain": [
       "<Figure size 432x288 with 1 Axes>"
      ]
     },
     "metadata": {
      "needs_background": "light"
     },
     "output_type": "display_data"
    }
   ],
   "source": [
    "data_subset.boxplot()"
   ]
  },
  {
   "cell_type": "code",
   "execution_count": 51,
   "id": "d1005bda-e8d5-4b5e-b960-97a08159f53b",
   "metadata": {},
   "outputs": [
    {
     "data": {
      "text/html": [
       "\n",
       "<div id=\"altair-viz-f0cd44b6018e4aba9f4bc2e2e4a80a16\"></div>\n",
       "<script type=\"text/javascript\">\n",
       "  var VEGA_DEBUG = (typeof VEGA_DEBUG == \"undefined\") ? {} : VEGA_DEBUG;\n",
       "  (function(spec, embedOpt){\n",
       "    let outputDiv = document.currentScript.previousElementSibling;\n",
       "    if (outputDiv.id !== \"altair-viz-f0cd44b6018e4aba9f4bc2e2e4a80a16\") {\n",
       "      outputDiv = document.getElementById(\"altair-viz-f0cd44b6018e4aba9f4bc2e2e4a80a16\");\n",
       "    }\n",
       "    const paths = {\n",
       "      \"vega\": \"https://cdn.jsdelivr.net/npm//vega@5?noext\",\n",
       "      \"vega-lib\": \"https://cdn.jsdelivr.net/npm//vega-lib?noext\",\n",
       "      \"vega-lite\": \"https://cdn.jsdelivr.net/npm//vega-lite@4.17.0?noext\",\n",
       "      \"vega-embed\": \"https://cdn.jsdelivr.net/npm//vega-embed@6?noext\",\n",
       "    };\n",
       "\n",
       "    function maybeLoadScript(lib, version) {\n",
       "      var key = `${lib.replace(\"-\", \"\")}_version`;\n",
       "      return (VEGA_DEBUG[key] == version) ?\n",
       "        Promise.resolve(paths[lib]) :\n",
       "        new Promise(function(resolve, reject) {\n",
       "          var s = document.createElement('script');\n",
       "          document.getElementsByTagName(\"head\")[0].appendChild(s);\n",
       "          s.async = true;\n",
       "          s.onload = () => {\n",
       "            VEGA_DEBUG[key] = version;\n",
       "            return resolve(paths[lib]);\n",
       "          };\n",
       "          s.onerror = () => reject(`Error loading script: ${paths[lib]}`);\n",
       "          s.src = paths[lib];\n",
       "        });\n",
       "    }\n",
       "\n",
       "    function showError(err) {\n",
       "      outputDiv.innerHTML = `<div class=\"error\" style=\"color:red;\">${err}</div>`;\n",
       "      throw err;\n",
       "    }\n",
       "\n",
       "    function displayChart(vegaEmbed) {\n",
       "      vegaEmbed(outputDiv, spec, embedOpt)\n",
       "        .catch(err => showError(`Javascript Error: ${err.message}<br>This usually means there's a typo in your chart specification. See the javascript console for the full traceback.`));\n",
       "    }\n",
       "\n",
       "    if(typeof define === \"function\" && define.amd) {\n",
       "      requirejs.config({paths});\n",
       "      require([\"vega-embed\"], displayChart, err => showError(`Error loading script: ${err.message}`));\n",
       "    } else {\n",
       "      maybeLoadScript(\"vega\", \"5\")\n",
       "        .then(() => maybeLoadScript(\"vega-lite\", \"4.17.0\"))\n",
       "        .then(() => maybeLoadScript(\"vega-embed\", \"6\"))\n",
       "        .catch(showError)\n",
       "        .then(() => displayChart(vegaEmbed));\n",
       "    }\n",
       "  })({\"config\": {\"view\": {\"continuousWidth\": 400, \"continuousHeight\": 300}}, \"data\": {\"url\": \"http://localhost:19126/266f4a1e4a07d0f3a7a5059c33887088.json\"}, \"mark\": \"circle\", \"encoding\": {\"color\": {\"field\": \"Playlist Genre\", \"type\": \"nominal\"}, \"size\": {\"field\": \"Playlist Genre\", \"type\": \"nominal\"}, \"x\": {\"field\": \"Playlist Genre\", \"type\": \"nominal\"}, \"y\": {\"aggregate\": \"count\", \"field\": \"Name\", \"scale\": {\"domain\": [3500, 6500]}, \"type\": \"nominal\"}}, \"height\": 450, \"width\": 700, \"$schema\": \"https://vega.github.io/schema/vega-lite/v4.17.0.json\"}, {\"mode\": \"vega-lite\"});\n",
       "</script>"
      ],
      "text/plain": [
       "alt.Chart(...)"
      ]
     },
     "execution_count": 51,
     "metadata": {},
     "output_type": "execute_result"
    }
   ],
   "source": [
    "chart = alt.Chart(data).mark_circle().encode(\n",
    "    alt.X('Playlist Genre'),\n",
    "    alt.Y('count(Name)',scale=alt.Scale(domain=(3500, 6500))),\n",
    "    color=alt.Color('Playlist Genre'),\n",
    "    size=alt.Size('Playlist Genre')).properties(width=700,\n",
    "        height=450\n",
    "\n",
    ")\n",
    "chart"
   ]
  },
  {
   "cell_type": "code",
   "execution_count": null,
   "id": "be79d430-6a96-4127-ab4e-f7e1cf84c267",
   "metadata": {},
   "outputs": [],
   "source": []
  }
 ],
 "metadata": {
  "kernelspec": {
   "display_name": "Python 3 (ipykernel)",
   "language": "python",
   "name": "python3"
  },
  "language_info": {
   "codemirror_mode": {
    "name": "ipython",
    "version": 3
   },
   "file_extension": ".py",
   "mimetype": "text/x-python",
   "name": "python",
   "nbconvert_exporter": "python",
   "pygments_lexer": "ipython3",
   "version": "3.9.9"
  }
 },
 "nbformat": 4,
 "nbformat_minor": 5
}
