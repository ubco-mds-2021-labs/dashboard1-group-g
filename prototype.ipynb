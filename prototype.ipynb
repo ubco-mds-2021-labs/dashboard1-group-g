{
 "cells": [
  {
   "cell_type": "code",
   "execution_count": 1,
   "id": "1884078c-de20-4284-b100-d5d0706b67e2",
   "metadata": {},
   "outputs": [
    {
     "data": {
      "text/plain": [
       "DataTransformerRegistry.enable('data_server')"
      ]
     },
     "execution_count": 1,
     "metadata": {},
     "output_type": "execute_result"
    }
   ],
   "source": [
    "import pandas as pd\n",
    "import altair as alt\n",
    "# Save a vega-lite spec and a PNG blob for each plot in the notebook\n",
    "#alt.renderers.enable('mimetype')\n",
    "# Handle large data sets without embedding them in the notebook\n",
    "alt.data_transformers.enable('data_server')\n",
    "alt.data_transformers.disable_max_rows()"
   ]
  },
  {
   "cell_type": "code",
   "execution_count": 2,
   "id": "cd3233c5-5dbf-48f9-8e20-4be0a6521258",
   "metadata": {},
   "outputs": [],
   "source": [
    "def getSpotifyData():\n",
    "    data = pd.read_csv('https://raw.githubusercontent.com/rfordatascience/tidytuesday/master/data/2020/2020-01-21/spotify_songs.csv')\n",
    "    data = data.dropna()\n",
    "    data = data.drop(['track_id', 'track_album_id', 'playlist_id'], axis=1)\n",
    "    data.columns = [\"Name\", \"Artist\", \"Popularity\", \"Album Name\", \"Album Release Date\", \"Playlist Name\", \n",
    "                \"Playlist Genre\", \"Playlist Subgenre\", \"Danceability\", \n",
    "               \"Energy\", \"Key\", \"Loudness\", \"Mode\", \"Speechiness\", \n",
    "               \"Acousticness\", \"Instrumentalness\", \"Liveness\", \"Valence\", \n",
    "              \"Tempo\", \"Duration\"]\n",
    "    data['Playlist Genre'] = data['Playlist Genre'].str.title()\n",
    "    data['Playlist Subgenre'] = data['Playlist Subgenre'].str.title()\n",
    "    mode = {1 : 'Major', 0:'Minor'}\n",
    "    key = {0 : 'C', 1:'C#', 2: 'D', 3:'D#', 4: 'E', 5:'F', 6: 'F#', 7:'G', \n",
    "           8: 'G#', 9:'A', 10: 'B♭', 11:'B'}\n",
    "    data.replace({\"Mode\":mode}, inplace = True)\n",
    "    data.replace({\"Key\":key}, inplace = True)\n",
    "    return data"
   ]
  },
  {
   "cell_type": "code",
   "execution_count": 40,
   "id": "a5a57ba3-7148-4491-8c8f-bd9d4dd7d96b",
   "metadata": {},
   "outputs": [],
   "source": [
    "import datetime\n",
    "from datetime import datetime\n"
   ]
  },
  {
   "cell_type": "code",
   "execution_count": 44,
   "id": "4f307c07-1156-46ac-9b94-92a9de5b3749",
   "metadata": {},
   "outputs": [],
   "source": [
    "data['Year'] =  pd.to_datetime(data['Album Release Date'], format='%Y-%m-%d')"
   ]
  },
  {
   "cell_type": "code",
   "execution_count": 49,
   "id": "356158b1-55f1-43a2-8a21-11a38822001e",
   "metadata": {},
   "outputs": [],
   "source": [
    "data['year2'] = data['Year'].apply(lambda x: x.year)"
   ]
  },
  {
   "cell_type": "code",
   "execution_count": 52,
   "id": "a162bea7-cc4d-4a75-97ad-4cf3fd7b496d",
   "metadata": {},
   "outputs": [
    {
     "data": {
      "text/plain": [
       "1957"
      ]
     },
     "execution_count": 52,
     "metadata": {},
     "output_type": "execute_result"
    }
   ],
   "source": [
    "min(data['year2'])"
   ]
  },
  {
   "cell_type": "code",
   "execution_count": 53,
   "id": "22abd475-aa9c-464d-8931-76112c1e2e68",
   "metadata": {},
   "outputs": [
    {
     "data": {
      "text/plain": [
       "2020"
      ]
     },
     "execution_count": 53,
     "metadata": {},
     "output_type": "execute_result"
    }
   ],
   "source": [
    "max(data['year2'])"
   ]
  },
  {
   "cell_type": "code",
   "execution_count": 56,
   "id": "a66ecd32-0e00-4c65-bb11-664cf8a27dcc",
   "metadata": {},
   "outputs": [
    {
     "data": {
      "text/plain": [
       "'2020'"
      ]
     },
     "execution_count": 56,
     "metadata": {},
     "output_type": "execute_result"
    }
   ],
   "source": [
    "str(max(data['year2']))"
   ]
  },
  {
   "cell_type": "code",
   "execution_count": 54,
   "id": "736072bf-1cbd-4453-99b8-c68c7ae55af2",
   "metadata": {},
   "outputs": [
    {
     "data": {
      "text/plain": [
       "0        2019\n",
       "1        2019\n",
       "2        2019\n",
       "3        2019\n",
       "4        2019\n",
       "         ... \n",
       "32828    2014\n",
       "32829    2013\n",
       "32830    2014\n",
       "32831    2014\n",
       "32832    2014\n",
       "Name: year2, Length: 32828, dtype: int64"
      ]
     },
     "execution_count": 54,
     "metadata": {},
     "output_type": "execute_result"
    }
   ],
   "source": [
    "data['year2']"
   ]
  },
  {
   "cell_type": "code",
   "execution_count": 50,
   "id": "7daa2e95-e4f6-4035-9209-247d65ae7f53",
   "metadata": {},
   "outputs": [
    {
     "data": {
      "text/html": [
       "<div>\n",
       "<style scoped>\n",
       "    .dataframe tbody tr th:only-of-type {\n",
       "        vertical-align: middle;\n",
       "    }\n",
       "\n",
       "    .dataframe tbody tr th {\n",
       "        vertical-align: top;\n",
       "    }\n",
       "\n",
       "    .dataframe thead th {\n",
       "        text-align: right;\n",
       "    }\n",
       "</style>\n",
       "<table border=\"1\" class=\"dataframe\">\n",
       "  <thead>\n",
       "    <tr style=\"text-align: right;\">\n",
       "      <th></th>\n",
       "      <th>Name</th>\n",
       "      <th>Artist</th>\n",
       "      <th>Popularity</th>\n",
       "      <th>Album Name</th>\n",
       "      <th>Album Release Date</th>\n",
       "      <th>Playlist Name</th>\n",
       "      <th>Playlist Genre</th>\n",
       "      <th>Playlist Subgenre</th>\n",
       "      <th>Danceability</th>\n",
       "      <th>Energy</th>\n",
       "      <th>...</th>\n",
       "      <th>Mode</th>\n",
       "      <th>Speechiness</th>\n",
       "      <th>Acousticness</th>\n",
       "      <th>Instrumentalness</th>\n",
       "      <th>Liveness</th>\n",
       "      <th>Valence</th>\n",
       "      <th>Tempo</th>\n",
       "      <th>Duration</th>\n",
       "      <th>Year</th>\n",
       "      <th>year2</th>\n",
       "    </tr>\n",
       "  </thead>\n",
       "  <tbody>\n",
       "    <tr>\n",
       "      <th>0</th>\n",
       "      <td>I Don't Care (with Justin Bieber) - Loud Luxur...</td>\n",
       "      <td>Ed Sheeran</td>\n",
       "      <td>66</td>\n",
       "      <td>I Don't Care (with Justin Bieber) [Loud Luxury...</td>\n",
       "      <td>2019-06-14</td>\n",
       "      <td>Pop Remix</td>\n",
       "      <td>Pop</td>\n",
       "      <td>Dance Pop</td>\n",
       "      <td>0.748</td>\n",
       "      <td>0.916</td>\n",
       "      <td>...</td>\n",
       "      <td>Major</td>\n",
       "      <td>0.0583</td>\n",
       "      <td>0.1020</td>\n",
       "      <td>0.000000</td>\n",
       "      <td>0.0653</td>\n",
       "      <td>0.518</td>\n",
       "      <td>122.036</td>\n",
       "      <td>194754</td>\n",
       "      <td>2019-06-14</td>\n",
       "      <td>2019</td>\n",
       "    </tr>\n",
       "    <tr>\n",
       "      <th>1</th>\n",
       "      <td>Memories - Dillon Francis Remix</td>\n",
       "      <td>Maroon 5</td>\n",
       "      <td>67</td>\n",
       "      <td>Memories (Dillon Francis Remix)</td>\n",
       "      <td>2019-12-13</td>\n",
       "      <td>Pop Remix</td>\n",
       "      <td>Pop</td>\n",
       "      <td>Dance Pop</td>\n",
       "      <td>0.726</td>\n",
       "      <td>0.815</td>\n",
       "      <td>...</td>\n",
       "      <td>Major</td>\n",
       "      <td>0.0373</td>\n",
       "      <td>0.0724</td>\n",
       "      <td>0.004210</td>\n",
       "      <td>0.3570</td>\n",
       "      <td>0.693</td>\n",
       "      <td>99.972</td>\n",
       "      <td>162600</td>\n",
       "      <td>2019-12-13</td>\n",
       "      <td>2019</td>\n",
       "    </tr>\n",
       "    <tr>\n",
       "      <th>2</th>\n",
       "      <td>All the Time - Don Diablo Remix</td>\n",
       "      <td>Zara Larsson</td>\n",
       "      <td>70</td>\n",
       "      <td>All the Time (Don Diablo Remix)</td>\n",
       "      <td>2019-07-05</td>\n",
       "      <td>Pop Remix</td>\n",
       "      <td>Pop</td>\n",
       "      <td>Dance Pop</td>\n",
       "      <td>0.675</td>\n",
       "      <td>0.931</td>\n",
       "      <td>...</td>\n",
       "      <td>Minor</td>\n",
       "      <td>0.0742</td>\n",
       "      <td>0.0794</td>\n",
       "      <td>0.000023</td>\n",
       "      <td>0.1100</td>\n",
       "      <td>0.613</td>\n",
       "      <td>124.008</td>\n",
       "      <td>176616</td>\n",
       "      <td>2019-07-05</td>\n",
       "      <td>2019</td>\n",
       "    </tr>\n",
       "    <tr>\n",
       "      <th>3</th>\n",
       "      <td>Call You Mine - Keanu Silva Remix</td>\n",
       "      <td>The Chainsmokers</td>\n",
       "      <td>60</td>\n",
       "      <td>Call You Mine - The Remixes</td>\n",
       "      <td>2019-07-19</td>\n",
       "      <td>Pop Remix</td>\n",
       "      <td>Pop</td>\n",
       "      <td>Dance Pop</td>\n",
       "      <td>0.718</td>\n",
       "      <td>0.930</td>\n",
       "      <td>...</td>\n",
       "      <td>Major</td>\n",
       "      <td>0.1020</td>\n",
       "      <td>0.0287</td>\n",
       "      <td>0.000009</td>\n",
       "      <td>0.2040</td>\n",
       "      <td>0.277</td>\n",
       "      <td>121.956</td>\n",
       "      <td>169093</td>\n",
       "      <td>2019-07-19</td>\n",
       "      <td>2019</td>\n",
       "    </tr>\n",
       "    <tr>\n",
       "      <th>4</th>\n",
       "      <td>Someone You Loved - Future Humans Remix</td>\n",
       "      <td>Lewis Capaldi</td>\n",
       "      <td>69</td>\n",
       "      <td>Someone You Loved (Future Humans Remix)</td>\n",
       "      <td>2019-03-05</td>\n",
       "      <td>Pop Remix</td>\n",
       "      <td>Pop</td>\n",
       "      <td>Dance Pop</td>\n",
       "      <td>0.650</td>\n",
       "      <td>0.833</td>\n",
       "      <td>...</td>\n",
       "      <td>Major</td>\n",
       "      <td>0.0359</td>\n",
       "      <td>0.0803</td>\n",
       "      <td>0.000000</td>\n",
       "      <td>0.0833</td>\n",
       "      <td>0.725</td>\n",
       "      <td>123.976</td>\n",
       "      <td>189052</td>\n",
       "      <td>2019-03-05</td>\n",
       "      <td>2019</td>\n",
       "    </tr>\n",
       "  </tbody>\n",
       "</table>\n",
       "<p>5 rows × 22 columns</p>\n",
       "</div>"
      ],
      "text/plain": [
       "                                                Name            Artist  \\\n",
       "0  I Don't Care (with Justin Bieber) - Loud Luxur...        Ed Sheeran   \n",
       "1                    Memories - Dillon Francis Remix          Maroon 5   \n",
       "2                    All the Time - Don Diablo Remix      Zara Larsson   \n",
       "3                  Call You Mine - Keanu Silva Remix  The Chainsmokers   \n",
       "4            Someone You Loved - Future Humans Remix     Lewis Capaldi   \n",
       "\n",
       "   Popularity                                         Album Name  \\\n",
       "0          66  I Don't Care (with Justin Bieber) [Loud Luxury...   \n",
       "1          67                    Memories (Dillon Francis Remix)   \n",
       "2          70                    All the Time (Don Diablo Remix)   \n",
       "3          60                        Call You Mine - The Remixes   \n",
       "4          69            Someone You Loved (Future Humans Remix)   \n",
       "\n",
       "  Album Release Date Playlist Name Playlist Genre Playlist Subgenre  \\\n",
       "0         2019-06-14     Pop Remix            Pop         Dance Pop   \n",
       "1         2019-12-13     Pop Remix            Pop         Dance Pop   \n",
       "2         2019-07-05     Pop Remix            Pop         Dance Pop   \n",
       "3         2019-07-19     Pop Remix            Pop         Dance Pop   \n",
       "4         2019-03-05     Pop Remix            Pop         Dance Pop   \n",
       "\n",
       "   Danceability  Energy  ...   Mode  Speechiness Acousticness  \\\n",
       "0         0.748   0.916  ...  Major       0.0583       0.1020   \n",
       "1         0.726   0.815  ...  Major       0.0373       0.0724   \n",
       "2         0.675   0.931  ...  Minor       0.0742       0.0794   \n",
       "3         0.718   0.930  ...  Major       0.1020       0.0287   \n",
       "4         0.650   0.833  ...  Major       0.0359       0.0803   \n",
       "\n",
       "   Instrumentalness  Liveness  Valence    Tempo  Duration       Year  year2  \n",
       "0          0.000000    0.0653    0.518  122.036    194754 2019-06-14   2019  \n",
       "1          0.004210    0.3570    0.693   99.972    162600 2019-12-13   2019  \n",
       "2          0.000023    0.1100    0.613  124.008    176616 2019-07-05   2019  \n",
       "3          0.000009    0.2040    0.277  121.956    169093 2019-07-19   2019  \n",
       "4          0.000000    0.0833    0.725  123.976    189052 2019-03-05   2019  \n",
       "\n",
       "[5 rows x 22 columns]"
      ]
     },
     "execution_count": 50,
     "metadata": {},
     "output_type": "execute_result"
    }
   ],
   "source": [
    "data.head()"
   ]
  },
  {
   "cell_type": "markdown",
   "id": "aa76db80-103a-46c4-90e0-5544a1b56c62",
   "metadata": {},
   "source": [
    "# Top 10 songs by Popularity \n",
    "## Mayukha Bheemavarapu"
   ]
  },
  {
   "cell_type": "code",
   "execution_count": 17,
   "id": "46dd4cc4-26eb-4cbe-8ab0-198636727dce",
   "metadata": {},
   "outputs": [],
   "source": [
    "data_subset=data.iloc[: , :3]\n",
    "data_subset=data_subset.groupby(['Name']).mean()\n",
    "data_subset = data_subset. reset_index()"
   ]
  },
  {
   "cell_type": "code",
   "execution_count": 18,
   "id": "9b30603d-d0e3-48a6-8b27-8667b274286d",
   "metadata": {},
   "outputs": [
    {
     "data": {
      "text/html": [
       "<div>\n",
       "<style scoped>\n",
       "    .dataframe tbody tr th:only-of-type {\n",
       "        vertical-align: middle;\n",
       "    }\n",
       "\n",
       "    .dataframe tbody tr th {\n",
       "        vertical-align: top;\n",
       "    }\n",
       "\n",
       "    .dataframe thead th {\n",
       "        text-align: right;\n",
       "    }\n",
       "</style>\n",
       "<table border=\"1\" class=\"dataframe\">\n",
       "  <thead>\n",
       "    <tr style=\"text-align: right;\">\n",
       "      <th></th>\n",
       "      <th>Name</th>\n",
       "      <th>Popularity</th>\n",
       "    </tr>\n",
       "  </thead>\n",
       "  <tbody>\n",
       "    <tr>\n",
       "      <th>0</th>\n",
       "      <td>\"I TRIED FOR YEARS... NOBODY LISTENED\"</td>\n",
       "      <td>18.0</td>\n",
       "    </tr>\n",
       "    <tr>\n",
       "      <th>1</th>\n",
       "      <td>\"This Is Seagull….\"</td>\n",
       "      <td>34.0</td>\n",
       "    </tr>\n",
       "    <tr>\n",
       "      <th>2</th>\n",
       "      <td>#1 Stunna</td>\n",
       "      <td>24.0</td>\n",
       "    </tr>\n",
       "    <tr>\n",
       "      <th>3</th>\n",
       "      <td>#NAKAMA</td>\n",
       "      <td>26.0</td>\n",
       "    </tr>\n",
       "    <tr>\n",
       "      <th>4</th>\n",
       "      <td>#Natural</td>\n",
       "      <td>50.0</td>\n",
       "    </tr>\n",
       "    <tr>\n",
       "      <th>...</th>\n",
       "      <td>...</td>\n",
       "      <td>...</td>\n",
       "    </tr>\n",
       "    <tr>\n",
       "      <th>23444</th>\n",
       "      <td>숙녀 (淑女) Lady</td>\n",
       "      <td>17.0</td>\n",
       "    </tr>\n",
       "    <tr>\n",
       "      <th>23445</th>\n",
       "      <td>쉼표</td>\n",
       "      <td>30.0</td>\n",
       "    </tr>\n",
       "    <tr>\n",
       "      <th>23446</th>\n",
       "      <td>중독 Overdose</td>\n",
       "      <td>4.0</td>\n",
       "    </tr>\n",
       "    <tr>\n",
       "      <th>23447</th>\n",
       "      <td>피카부 Peek-A-Boo</td>\n",
       "      <td>70.0</td>\n",
       "    </tr>\n",
       "    <tr>\n",
       "      <th>23448</th>\n",
       "      <td>하드캐리 Hard Carry</td>\n",
       "      <td>1.0</td>\n",
       "    </tr>\n",
       "  </tbody>\n",
       "</table>\n",
       "<p>23449 rows × 2 columns</p>\n",
       "</div>"
      ],
      "text/plain": [
       "                                         Name  Popularity\n",
       "0      \"I TRIED FOR YEARS... NOBODY LISTENED\"        18.0\n",
       "1                         \"This Is Seagull….\"        34.0\n",
       "2                                   #1 Stunna        24.0\n",
       "3                                     #NAKAMA        26.0\n",
       "4                                    #Natural        50.0\n",
       "...                                       ...         ...\n",
       "23444                            숙녀 (淑女) Lady        17.0\n",
       "23445                                      쉼표        30.0\n",
       "23446                             중독 Overdose         4.0\n",
       "23447                          피카부 Peek-A-Boo        70.0\n",
       "23448                         하드캐리 Hard Carry         1.0\n",
       "\n",
       "[23449 rows x 2 columns]"
      ]
     },
     "execution_count": 18,
     "metadata": {},
     "output_type": "execute_result"
    }
   ],
   "source": [
    "data_subset"
   ]
  },
  {
   "cell_type": "code",
   "execution_count": 6,
   "id": "3fa5a2bc-1546-428a-a605-df43741e6523",
   "metadata": {},
   "outputs": [],
   "source": [
    "top10=data_subset.nlargest(10,'Popularity')"
   ]
  },
  {
   "cell_type": "code",
   "execution_count": 7,
   "id": "5edb464d-9b1f-49cd-9a51-c1555d202e3d",
   "metadata": {},
   "outputs": [],
   "source": [
    "chart = alt.Chart(data_subset).mark_bar().encode(\n",
    "    alt.X('mean(Popularity)'),\n",
    "    alt.Y('Name',sort='-x')\n",
    ")\n"
   ]
  },
  {
   "cell_type": "code",
   "execution_count": 8,
   "id": "00a7690f-2ddd-4fcb-a2ee-d1b48da871a0",
   "metadata": {},
   "outputs": [
    {
     "data": {
      "text/html": [
       "\n",
       "<div id=\"altair-viz-fad8492ee2be472ea37f95f03bdf318d\"></div>\n",
       "<script type=\"text/javascript\">\n",
       "  var VEGA_DEBUG = (typeof VEGA_DEBUG == \"undefined\") ? {} : VEGA_DEBUG;\n",
       "  (function(spec, embedOpt){\n",
       "    let outputDiv = document.currentScript.previousElementSibling;\n",
       "    if (outputDiv.id !== \"altair-viz-fad8492ee2be472ea37f95f03bdf318d\") {\n",
       "      outputDiv = document.getElementById(\"altair-viz-fad8492ee2be472ea37f95f03bdf318d\");\n",
       "    }\n",
       "    const paths = {\n",
       "      \"vega\": \"https://cdn.jsdelivr.net/npm//vega@5?noext\",\n",
       "      \"vega-lib\": \"https://cdn.jsdelivr.net/npm//vega-lib?noext\",\n",
       "      \"vega-lite\": \"https://cdn.jsdelivr.net/npm//vega-lite@4.17.0?noext\",\n",
       "      \"vega-embed\": \"https://cdn.jsdelivr.net/npm//vega-embed@6?noext\",\n",
       "    };\n",
       "\n",
       "    function maybeLoadScript(lib, version) {\n",
       "      var key = `${lib.replace(\"-\", \"\")}_version`;\n",
       "      return (VEGA_DEBUG[key] == version) ?\n",
       "        Promise.resolve(paths[lib]) :\n",
       "        new Promise(function(resolve, reject) {\n",
       "          var s = document.createElement('script');\n",
       "          document.getElementsByTagName(\"head\")[0].appendChild(s);\n",
       "          s.async = true;\n",
       "          s.onload = () => {\n",
       "            VEGA_DEBUG[key] = version;\n",
       "            return resolve(paths[lib]);\n",
       "          };\n",
       "          s.onerror = () => reject(`Error loading script: ${paths[lib]}`);\n",
       "          s.src = paths[lib];\n",
       "        });\n",
       "    }\n",
       "\n",
       "    function showError(err) {\n",
       "      outputDiv.innerHTML = `<div class=\"error\" style=\"color:red;\">${err}</div>`;\n",
       "      throw err;\n",
       "    }\n",
       "\n",
       "    function displayChart(vegaEmbed) {\n",
       "      vegaEmbed(outputDiv, spec, embedOpt)\n",
       "        .catch(err => showError(`Javascript Error: ${err.message}<br>This usually means there's a typo in your chart specification. See the javascript console for the full traceback.`));\n",
       "    }\n",
       "\n",
       "    if(typeof define === \"function\" && define.amd) {\n",
       "      requirejs.config({paths});\n",
       "      require([\"vega-embed\"], displayChart, err => showError(`Error loading script: ${err.message}`));\n",
       "    } else {\n",
       "      maybeLoadScript(\"vega\", \"5\")\n",
       "        .then(() => maybeLoadScript(\"vega-lite\", \"4.17.0\"))\n",
       "        .then(() => maybeLoadScript(\"vega-embed\", \"6\"))\n",
       "        .catch(showError)\n",
       "        .then(() => displayChart(vegaEmbed));\n",
       "    }\n",
       "  })({\"config\": {\"view\": {\"continuousWidth\": 400, \"continuousHeight\": 300}}, \"data\": {\"url\": \"http://localhost:16951/bd1f2b6fa63b60549c1b80e89e529b7f.json\"}, \"mark\": \"bar\", \"encoding\": {\"x\": {\"aggregate\": \"mean\", \"field\": \"Popularity\", \"type\": \"quantitative\"}, \"y\": {\"field\": \"Name\", \"sort\": \"-x\", \"type\": \"nominal\"}}, \"$schema\": \"https://vega.github.io/schema/vega-lite/v4.17.0.json\"}, {\"mode\": \"vega-lite\"});\n",
       "</script>"
      ],
      "text/plain": [
       "alt.Chart(...)"
      ]
     },
     "execution_count": 8,
     "metadata": {},
     "output_type": "execute_result"
    }
   ],
   "source": [
    "chart = alt.Chart(top10).mark_bar().encode(\n",
    "    alt.X('mean(Popularity)'),\n",
    "    alt.Y('Name',sort='-x')\n",
    ")\n",
    "chart"
   ]
  },
  {
   "cell_type": "code",
   "execution_count": 19,
   "id": "5d05b317-474e-4b7e-94e1-a64f47428a4e",
   "metadata": {},
   "outputs": [
    {
     "data": {
      "text/html": [
       "\n",
       "<div id=\"altair-viz-7862882b6cd04cc4a8824d5be09c12fa\"></div>\n",
       "<script type=\"text/javascript\">\n",
       "  var VEGA_DEBUG = (typeof VEGA_DEBUG == \"undefined\") ? {} : VEGA_DEBUG;\n",
       "  (function(spec, embedOpt){\n",
       "    let outputDiv = document.currentScript.previousElementSibling;\n",
       "    if (outputDiv.id !== \"altair-viz-7862882b6cd04cc4a8824d5be09c12fa\") {\n",
       "      outputDiv = document.getElementById(\"altair-viz-7862882b6cd04cc4a8824d5be09c12fa\");\n",
       "    }\n",
       "    const paths = {\n",
       "      \"vega\": \"https://cdn.jsdelivr.net/npm//vega@5?noext\",\n",
       "      \"vega-lib\": \"https://cdn.jsdelivr.net/npm//vega-lib?noext\",\n",
       "      \"vega-lite\": \"https://cdn.jsdelivr.net/npm//vega-lite@4.17.0?noext\",\n",
       "      \"vega-embed\": \"https://cdn.jsdelivr.net/npm//vega-embed@6?noext\",\n",
       "    };\n",
       "\n",
       "    function maybeLoadScript(lib, version) {\n",
       "      var key = `${lib.replace(\"-\", \"\")}_version`;\n",
       "      return (VEGA_DEBUG[key] == version) ?\n",
       "        Promise.resolve(paths[lib]) :\n",
       "        new Promise(function(resolve, reject) {\n",
       "          var s = document.createElement('script');\n",
       "          document.getElementsByTagName(\"head\")[0].appendChild(s);\n",
       "          s.async = true;\n",
       "          s.onload = () => {\n",
       "            VEGA_DEBUG[key] = version;\n",
       "            return resolve(paths[lib]);\n",
       "          };\n",
       "          s.onerror = () => reject(`Error loading script: ${paths[lib]}`);\n",
       "          s.src = paths[lib];\n",
       "        });\n",
       "    }\n",
       "\n",
       "    function showError(err) {\n",
       "      outputDiv.innerHTML = `<div class=\"error\" style=\"color:red;\">${err}</div>`;\n",
       "      throw err;\n",
       "    }\n",
       "\n",
       "    function displayChart(vegaEmbed) {\n",
       "      vegaEmbed(outputDiv, spec, embedOpt)\n",
       "        .catch(err => showError(`Javascript Error: ${err.message}<br>This usually means there's a typo in your chart specification. See the javascript console for the full traceback.`));\n",
       "    }\n",
       "\n",
       "    if(typeof define === \"function\" && define.amd) {\n",
       "      requirejs.config({paths});\n",
       "      require([\"vega-embed\"], displayChart, err => showError(`Error loading script: ${err.message}`));\n",
       "    } else {\n",
       "      maybeLoadScript(\"vega\", \"5\")\n",
       "        .then(() => maybeLoadScript(\"vega-lite\", \"4.17.0\"))\n",
       "        .then(() => maybeLoadScript(\"vega-embed\", \"6\"))\n",
       "        .catch(showError)\n",
       "        .then(() => displayChart(vegaEmbed));\n",
       "    }\n",
       "  })({\"config\": {\"view\": {\"continuousWidth\": 400, \"continuousHeight\": 300}}, \"data\": {\"url\": \"http://localhost:16951/bd1f2b6fa63b60549c1b80e89e529b7f.json\"}, \"mark\": \"bar\", \"encoding\": {\"x\": {\"aggregate\": \"mean\", \"field\": \"Popularity\", \"type\": \"quantitative\"}, \"y\": {\"field\": \"Name\", \"sort\": \"-x\", \"type\": \"nominal\"}}, \"$schema\": \"https://vega.github.io/schema/vega-lite/v4.17.0.json\"}, {\"mode\": \"vega-lite\"});\n",
       "</script>"
      ],
      "text/plain": [
       "alt.Chart(...)"
      ]
     },
     "execution_count": 19,
     "metadata": {},
     "output_type": "execute_result"
    }
   ],
   "source": [
    "data_filtered = data[[\"Name\", \"Artist\",\"Popularity\",\"Album Release Date\"]]\n",
    "data_subset=data_filtered.groupby(['Name']).mean()\n",
    "data_subset = data_subset. reset_index()\n",
    "top10=data_subset.nlargest(10,'Popularity')\n",
    "\n",
    "chart = alt.Chart(top10).mark_bar().encode(\n",
    "    alt.X('mean(Popularity)'),\n",
    "    alt.Y('Name',sort='-x')\n",
    ")\n",
    "chart"
   ]
  },
  {
   "cell_type": "code",
   "execution_count": 16,
   "id": "39881a72-e381-4456-93bb-8ea4925cebf2",
   "metadata": {},
   "outputs": [
    {
     "data": {
      "text/html": [
       "<div>\n",
       "<style scoped>\n",
       "    .dataframe tbody tr th:only-of-type {\n",
       "        vertical-align: middle;\n",
       "    }\n",
       "\n",
       "    .dataframe tbody tr th {\n",
       "        vertical-align: top;\n",
       "    }\n",
       "\n",
       "    .dataframe thead th {\n",
       "        text-align: right;\n",
       "    }\n",
       "</style>\n",
       "<table border=\"1\" class=\"dataframe\">\n",
       "  <thead>\n",
       "    <tr style=\"text-align: right;\">\n",
       "      <th></th>\n",
       "      <th>Name</th>\n",
       "      <th>Popularity</th>\n",
       "    </tr>\n",
       "  </thead>\n",
       "  <tbody>\n",
       "    <tr>\n",
       "      <th>0</th>\n",
       "      <td>\"I TRIED FOR YEARS... NOBODY LISTENED\"</td>\n",
       "      <td>18.0</td>\n",
       "    </tr>\n",
       "    <tr>\n",
       "      <th>1</th>\n",
       "      <td>\"This Is Seagull….\"</td>\n",
       "      <td>34.0</td>\n",
       "    </tr>\n",
       "    <tr>\n",
       "      <th>2</th>\n",
       "      <td>#1 Stunna</td>\n",
       "      <td>24.0</td>\n",
       "    </tr>\n",
       "    <tr>\n",
       "      <th>3</th>\n",
       "      <td>#NAKAMA</td>\n",
       "      <td>26.0</td>\n",
       "    </tr>\n",
       "    <tr>\n",
       "      <th>4</th>\n",
       "      <td>#Natural</td>\n",
       "      <td>50.0</td>\n",
       "    </tr>\n",
       "    <tr>\n",
       "      <th>...</th>\n",
       "      <td>...</td>\n",
       "      <td>...</td>\n",
       "    </tr>\n",
       "    <tr>\n",
       "      <th>23444</th>\n",
       "      <td>숙녀 (淑女) Lady</td>\n",
       "      <td>17.0</td>\n",
       "    </tr>\n",
       "    <tr>\n",
       "      <th>23445</th>\n",
       "      <td>쉼표</td>\n",
       "      <td>30.0</td>\n",
       "    </tr>\n",
       "    <tr>\n",
       "      <th>23446</th>\n",
       "      <td>중독 Overdose</td>\n",
       "      <td>4.0</td>\n",
       "    </tr>\n",
       "    <tr>\n",
       "      <th>23447</th>\n",
       "      <td>피카부 Peek-A-Boo</td>\n",
       "      <td>70.0</td>\n",
       "    </tr>\n",
       "    <tr>\n",
       "      <th>23448</th>\n",
       "      <td>하드캐리 Hard Carry</td>\n",
       "      <td>1.0</td>\n",
       "    </tr>\n",
       "  </tbody>\n",
       "</table>\n",
       "<p>23449 rows × 2 columns</p>\n",
       "</div>"
      ],
      "text/plain": [
       "                                         Name  Popularity\n",
       "0      \"I TRIED FOR YEARS... NOBODY LISTENED\"        18.0\n",
       "1                         \"This Is Seagull….\"        34.0\n",
       "2                                   #1 Stunna        24.0\n",
       "3                                     #NAKAMA        26.0\n",
       "4                                    #Natural        50.0\n",
       "...                                       ...         ...\n",
       "23444                            숙녀 (淑女) Lady        17.0\n",
       "23445                                      쉼표        30.0\n",
       "23446                             중독 Overdose         4.0\n",
       "23447                          피카부 Peek-A-Boo        70.0\n",
       "23448                         하드캐리 Hard Carry         1.0\n",
       "\n",
       "[23449 rows x 2 columns]"
      ]
     },
     "execution_count": 16,
     "metadata": {},
     "output_type": "execute_result"
    }
   ],
   "source": [
    "data_subset"
   ]
  },
  {
   "cell_type": "markdown",
   "id": "ec52df9e-9048-429b-b7bc-2b67eafccb06",
   "metadata": {},
   "source": [
    "# Trend over years for each genre\n",
    "\n",
    "## Xin Tian"
   ]
  },
  {
   "cell_type": "code",
   "execution_count": 9,
   "id": "65697728-e0dd-4df8-96c6-9b2070cd1a52",
   "metadata": {},
   "outputs": [
    {
     "data": {
      "text/html": [
       "\n",
       "<div id=\"altair-viz-5e680665baeb4c7c8311a2bdc4bc2441\"></div>\n",
       "<script type=\"text/javascript\">\n",
       "  var VEGA_DEBUG = (typeof VEGA_DEBUG == \"undefined\") ? {} : VEGA_DEBUG;\n",
       "  (function(spec, embedOpt){\n",
       "    let outputDiv = document.currentScript.previousElementSibling;\n",
       "    if (outputDiv.id !== \"altair-viz-5e680665baeb4c7c8311a2bdc4bc2441\") {\n",
       "      outputDiv = document.getElementById(\"altair-viz-5e680665baeb4c7c8311a2bdc4bc2441\");\n",
       "    }\n",
       "    const paths = {\n",
       "      \"vega\": \"https://cdn.jsdelivr.net/npm//vega@5?noext\",\n",
       "      \"vega-lib\": \"https://cdn.jsdelivr.net/npm//vega-lib?noext\",\n",
       "      \"vega-lite\": \"https://cdn.jsdelivr.net/npm//vega-lite@4.17.0?noext\",\n",
       "      \"vega-embed\": \"https://cdn.jsdelivr.net/npm//vega-embed@6?noext\",\n",
       "    };\n",
       "\n",
       "    function maybeLoadScript(lib, version) {\n",
       "      var key = `${lib.replace(\"-\", \"\")}_version`;\n",
       "      return (VEGA_DEBUG[key] == version) ?\n",
       "        Promise.resolve(paths[lib]) :\n",
       "        new Promise(function(resolve, reject) {\n",
       "          var s = document.createElement('script');\n",
       "          document.getElementsByTagName(\"head\")[0].appendChild(s);\n",
       "          s.async = true;\n",
       "          s.onload = () => {\n",
       "            VEGA_DEBUG[key] = version;\n",
       "            return resolve(paths[lib]);\n",
       "          };\n",
       "          s.onerror = () => reject(`Error loading script: ${paths[lib]}`);\n",
       "          s.src = paths[lib];\n",
       "        });\n",
       "    }\n",
       "\n",
       "    function showError(err) {\n",
       "      outputDiv.innerHTML = `<div class=\"error\" style=\"color:red;\">${err}</div>`;\n",
       "      throw err;\n",
       "    }\n",
       "\n",
       "    function displayChart(vegaEmbed) {\n",
       "      vegaEmbed(outputDiv, spec, embedOpt)\n",
       "        .catch(err => showError(`Javascript Error: ${err.message}<br>This usually means there's a typo in your chart specification. See the javascript console for the full traceback.`));\n",
       "    }\n",
       "\n",
       "    if(typeof define === \"function\" && define.amd) {\n",
       "      requirejs.config({paths});\n",
       "      require([\"vega-embed\"], displayChart, err => showError(`Error loading script: ${err.message}`));\n",
       "    } else {\n",
       "      maybeLoadScript(\"vega\", \"5\")\n",
       "        .then(() => maybeLoadScript(\"vega-lite\", \"4.17.0\"))\n",
       "        .then(() => maybeLoadScript(\"vega-embed\", \"6\"))\n",
       "        .catch(showError)\n",
       "        .then(() => displayChart(vegaEmbed));\n",
       "    }\n",
       "  })({\"config\": {\"view\": {\"continuousWidth\": 400, \"continuousHeight\": 300}}, \"data\": {\"url\": \"http://localhost:16951/266f4a1e4a07d0f3a7a5059c33887088.json\"}, \"mark\": \"line\", \"encoding\": {\"color\": {\"field\": \"Playlist Genre\", \"type\": \"nominal\"}, \"x\": {\"field\": \"Album Release Date\", \"timeUnit\": \"year\", \"type\": \"temporal\"}, \"y\": {\"aggregate\": \"mean\", \"field\": \"Popularity\", \"sort\": \"-x\", \"type\": \"quantitative\"}}, \"height\": 450, \"width\": 800, \"$schema\": \"https://vega.github.io/schema/vega-lite/v4.17.0.json\"}, {\"mode\": \"vega-lite\"});\n",
       "</script>"
      ],
      "text/plain": [
       "alt.Chart(...)"
      ]
     },
     "execution_count": 9,
     "metadata": {},
     "output_type": "execute_result"
    }
   ],
   "source": [
    "chart = alt.Chart(data).mark_line().encode(\n",
    "    alt.X('year(Album Release Date)'),\n",
    "    alt.Y('mean(Popularity)',sort='-x'),\n",
    "    color=alt.Color('Playlist Genre')\n",
    ").properties(\n",
    "\n",
    "    width=800,\n",
    "    height=450\n",
    "\n",
    ")\n",
    "chart"
   ]
  },
  {
   "cell_type": "markdown",
   "id": "97608a65-90ed-4cb9-9dfb-d7066ead4fae",
   "metadata": {},
   "source": [
    "# Count of songs over years\n",
    "## Sarah Hall"
   ]
  },
  {
   "cell_type": "code",
   "execution_count": 10,
   "id": "cf77aeaa-5ff2-4b99-9651-de001068aac2",
   "metadata": {},
   "outputs": [
    {
     "data": {
      "text/html": [
       "\n",
       "<div id=\"altair-viz-f847e4e0cdae4371b0591d571a3c3973\"></div>\n",
       "<script type=\"text/javascript\">\n",
       "  var VEGA_DEBUG = (typeof VEGA_DEBUG == \"undefined\") ? {} : VEGA_DEBUG;\n",
       "  (function(spec, embedOpt){\n",
       "    let outputDiv = document.currentScript.previousElementSibling;\n",
       "    if (outputDiv.id !== \"altair-viz-f847e4e0cdae4371b0591d571a3c3973\") {\n",
       "      outputDiv = document.getElementById(\"altair-viz-f847e4e0cdae4371b0591d571a3c3973\");\n",
       "    }\n",
       "    const paths = {\n",
       "      \"vega\": \"https://cdn.jsdelivr.net/npm//vega@5?noext\",\n",
       "      \"vega-lib\": \"https://cdn.jsdelivr.net/npm//vega-lib?noext\",\n",
       "      \"vega-lite\": \"https://cdn.jsdelivr.net/npm//vega-lite@4.17.0?noext\",\n",
       "      \"vega-embed\": \"https://cdn.jsdelivr.net/npm//vega-embed@6?noext\",\n",
       "    };\n",
       "\n",
       "    function maybeLoadScript(lib, version) {\n",
       "      var key = `${lib.replace(\"-\", \"\")}_version`;\n",
       "      return (VEGA_DEBUG[key] == version) ?\n",
       "        Promise.resolve(paths[lib]) :\n",
       "        new Promise(function(resolve, reject) {\n",
       "          var s = document.createElement('script');\n",
       "          document.getElementsByTagName(\"head\")[0].appendChild(s);\n",
       "          s.async = true;\n",
       "          s.onload = () => {\n",
       "            VEGA_DEBUG[key] = version;\n",
       "            return resolve(paths[lib]);\n",
       "          };\n",
       "          s.onerror = () => reject(`Error loading script: ${paths[lib]}`);\n",
       "          s.src = paths[lib];\n",
       "        });\n",
       "    }\n",
       "\n",
       "    function showError(err) {\n",
       "      outputDiv.innerHTML = `<div class=\"error\" style=\"color:red;\">${err}</div>`;\n",
       "      throw err;\n",
       "    }\n",
       "\n",
       "    function displayChart(vegaEmbed) {\n",
       "      vegaEmbed(outputDiv, spec, embedOpt)\n",
       "        .catch(err => showError(`Javascript Error: ${err.message}<br>This usually means there's a typo in your chart specification. See the javascript console for the full traceback.`));\n",
       "    }\n",
       "\n",
       "    if(typeof define === \"function\" && define.amd) {\n",
       "      requirejs.config({paths});\n",
       "      require([\"vega-embed\"], displayChart, err => showError(`Error loading script: ${err.message}`));\n",
       "    } else {\n",
       "      maybeLoadScript(\"vega\", \"5\")\n",
       "        .then(() => maybeLoadScript(\"vega-lite\", \"4.17.0\"))\n",
       "        .then(() => maybeLoadScript(\"vega-embed\", \"6\"))\n",
       "        .catch(showError)\n",
       "        .then(() => displayChart(vegaEmbed));\n",
       "    }\n",
       "  })({\"config\": {\"view\": {\"continuousWidth\": 400, \"continuousHeight\": 300}}, \"data\": {\"url\": \"http://localhost:16951/266f4a1e4a07d0f3a7a5059c33887088.json\"}, \"mark\": \"line\", \"encoding\": {\"color\": {\"field\": \"Playlist Genre\", \"type\": \"nominal\"}, \"x\": {\"field\": \"Album Release Date\", \"timeUnit\": \"year\", \"type\": \"temporal\"}, \"y\": {\"aggregate\": \"count\", \"field\": \"Name\", \"sort\": \"-x\", \"type\": \"nominal\"}}, \"height\": 450, \"width\": 800, \"$schema\": \"https://vega.github.io/schema/vega-lite/v4.17.0.json\"}, {\"mode\": \"vega-lite\"});\n",
       "</script>"
      ],
      "text/plain": [
       "alt.Chart(...)"
      ]
     },
     "execution_count": 10,
     "metadata": {},
     "output_type": "execute_result"
    }
   ],
   "source": [
    "chart = alt.Chart(data).mark_line().encode(\n",
    "    alt.X('year(Album Release Date)'),\n",
    "    alt.Y('count(Name)',sort='-x'),\n",
    "    color=alt.Color('Playlist Genre')\n",
    ").properties(\n",
    "\n",
    "    width=800,\n",
    "    height=450\n",
    "\n",
    ")\n",
    "chart"
   ]
  },
  {
   "cell_type": "markdown",
   "id": "1d90c721-2914-4034-91b4-c7fb784ea0c1",
   "metadata": {},
   "source": [
    "# pie chart for each genre (by sub genre)\n",
    "## Neethu G"
   ]
  },
  {
   "cell_type": "code",
   "execution_count": 11,
   "id": "653fffad-74e0-4678-91c8-43371ff5c217",
   "metadata": {},
   "outputs": [],
   "source": [
    "#(to do)"
   ]
  },
  {
   "cell_type": "code",
   "execution_count": null,
   "id": "30e3196d-c034-4c08-b8eb-ed7632340fef",
   "metadata": {},
   "outputs": [],
   "source": []
  },
  {
   "cell_type": "code",
   "execution_count": null,
   "id": "256979da-274b-4117-8ea8-a49b0d9772db",
   "metadata": {},
   "outputs": [],
   "source": []
  },
  {
   "cell_type": "code",
   "execution_count": null,
   "id": "a873557c-4cbd-4b52-8cf2-43df68f6867d",
   "metadata": {},
   "outputs": [],
   "source": []
  },
  {
   "cell_type": "code",
   "execution_count": 12,
   "id": "ead37f17-53d0-42eb-9807-f688e5c84d3f",
   "metadata": {},
   "outputs": [
    {
     "ename": "NameError",
     "evalue": "name 'data_filtered' is not defined",
     "output_type": "error",
     "traceback": [
      "\u001b[0;31m---------------------------------------------------------------------------\u001b[0m",
      "\u001b[0;31mNameError\u001b[0m                                 Traceback (most recent call last)",
      "Input \u001b[0;32mIn [12]\u001b[0m, in \u001b[0;36m<module>\u001b[0;34m\u001b[0m\n\u001b[0;32m----> 1\u001b[0m data_filtered2 \u001b[38;5;241m=\u001b[39m \u001b[43mdata_filtered\u001b[49m[[\u001b[38;5;124m\"\u001b[39m\u001b[38;5;124mEnergy\u001b[39m\u001b[38;5;124m\"\u001b[39m, \u001b[38;5;124m\"\u001b[39m\u001b[38;5;124mValence\u001b[39m\u001b[38;5;124m\"\u001b[39m,\u001b[38;5;124m\"\u001b[39m\u001b[38;5;124mDanceability\u001b[39m\u001b[38;5;124m\"\u001b[39m,\u001b[38;5;124m\"\u001b[39m\u001b[38;5;124mAcousticness\u001b[39m\u001b[38;5;124m\"\u001b[39m]]\n",
      "\u001b[0;31mNameError\u001b[0m: name 'data_filtered' is not defined"
     ]
    }
   ],
   "source": [
    "data_filtered2 = data_filtered[[\"Energy\", \"Valence\",\"Danceability\",\"Acousticness\"]]\n"
   ]
  },
  {
   "cell_type": "code",
   "execution_count": null,
   "id": "3d764b80-e66f-4f73-8ba8-91f9a269755e",
   "metadata": {},
   "outputs": [],
   "source": [
    "data_filtered2.boxplot()"
   ]
  },
  {
   "cell_type": "code",
   "execution_count": null,
   "id": "8d67c149-0be9-4d12-8df2-8844a33e9b5e",
   "metadata": {},
   "outputs": [],
   "source": [
    "data_subset.boxplot()"
   ]
  },
  {
   "cell_type": "code",
   "execution_count": null,
   "id": "d1005bda-e8d5-4b5e-b960-97a08159f53b",
   "metadata": {},
   "outputs": [],
   "source": [
    "chart = alt.Chart(data).mark_circle().encode(\n",
    "    alt.X('Playlist Genre'),\n",
    "    alt.Y('count(Name)',scale=alt.Scale(domain=(3500, 6500))),\n",
    "    color=alt.Color('Playlist Genre'),\n",
    "    size=alt.Size('Playlist Genre')).properties(width=700,\n",
    "        height=450\n",
    "\n",
    ")\n",
    "chart"
   ]
  },
  {
   "cell_type": "code",
   "execution_count": null,
   "id": "be79d430-6a96-4127-ab4e-f7e1cf84c267",
   "metadata": {},
   "outputs": [],
   "source": []
  }
 ],
 "metadata": {
  "kernelspec": {
   "display_name": "Python 3 (ipykernel)",
   "language": "python",
   "name": "python3"
  },
  "language_info": {
   "codemirror_mode": {
    "name": "ipython",
    "version": 3
   },
   "file_extension": ".py",
   "mimetype": "text/x-python",
   "name": "python",
   "nbconvert_exporter": "python",
   "pygments_lexer": "ipython3",
   "version": "3.9.9"
  }
 },
 "nbformat": 4,
 "nbformat_minor": 5
}
